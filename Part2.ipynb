{
  "nbformat": 4,
  "nbformat_minor": 0,
  "metadata": {
    "colab": {
      "provenance": []
    },
    "kernelspec": {
      "name": "python3",
      "display_name": "Python 3"
    },
    "language_info": {
      "name": "python"
    }
  },
  "cells": [
    {
      "cell_type": "code",
      "execution_count": null,
      "metadata": {
        "id": "HdIv72RwZ4Uo"
      },
      "outputs": [],
      "source": [
        "import jax\n",
        "import jax.numpy as jnp\n",
        "import numpy as np\n",
        "\n",
        "from jax import grad, jit, vmap, pmap\n",
        "\n",
        "from jax import random\n",
        "import matplotlib.pyplot as plt\n",
        "from copy import deepcopy\n",
        "from typing import Tuple, NamedTuple\n",
        "import functools"
      ]
    },
    {
      "cell_type": "code",
      "source": [
        "g = 0\n",
        "\n",
        "def impure_uses_globals(x):\n",
        "  return x + g\n",
        "\n",
        "print(\"First call: \", jit(impure_uses_globals)(4.))\n",
        "\n",
        "g = 10.\n",
        "\n",
        "print(\"Second call: \", jit(impure_uses_globals)(5.))"
      ],
      "metadata": {
        "colab": {
          "base_uri": "https://localhost:8080/"
        },
        "id": "wQxk-q2zjchu",
        "outputId": "86bee310-bb10-4179-a6b1-79b699b8a6ec"
      },
      "execution_count": null,
      "outputs": [
        {
          "output_type": "stream",
          "name": "stdout",
          "text": [
            "First call:  4.0\n",
            "Second call:  5.0\n"
          ]
        }
      ]
    },
    {
      "cell_type": "code",
      "source": [
        "seed = 0\n",
        "state = jax.random.PRNGKey(seed)\n",
        "\n",
        "state1, state2 = jax.random.split(state)\n",
        "\n",
        "class Counter:\n",
        "  \"\"\"A simple counter.\"\"\"\n",
        "\n",
        "  def __init__(self):\n",
        "    self.n = 0\n",
        "\n",
        "  def count(self) -> int:\n",
        "    \"\"\"Increments the counter and returns the new value.\"\"\"\n",
        "    self.n += 1\n",
        "    return self.n\n",
        "\n",
        "  def reset(self):\n",
        "    \"\"\"Resets the counter to zero.\"\"\"\n",
        "    self.n = 0\n",
        "\n",
        "counter = Counter()\n",
        "\n",
        "for _ in range(3):\n",
        "  print(counter.count())\n",
        "\n",
        "counter.reset()\n",
        "fast_count = jax.jit(counter.count)\n",
        "\n",
        "for _ in range(3):\n",
        "  print(fast_count())\n",
        "\n",
        "from jax import make_jaxpr\n",
        "\n",
        "counter.reset()\n",
        "print(make_jaxpr(counter.count)())"
      ],
      "metadata": {
        "colab": {
          "base_uri": "https://localhost:8080/"
        },
        "id": "h1pVbBHMj2Yk",
        "outputId": "6ae5cb5e-5f68-4afe-8230-b677aed826a3"
      },
      "execution_count": null,
      "outputs": [
        {
          "output_type": "stream",
          "name": "stdout",
          "text": [
            "1\n",
            "2\n",
            "3\n",
            "1\n",
            "1\n",
            "1\n",
            "{ lambda ; . let  in (1,) }\n"
          ]
        }
      ]
    },
    {
      "cell_type": "code",
      "source": [
        "CounterState = int\n",
        "\n",
        "class CounterV2:\n",
        "\n",
        "  def count(self, n: CounterState) -> Tuple[int, CounterState]:\n",
        "    return n+1, n+1\n",
        "\n",
        "  def reset(self) -> CounterState:\n",
        "    return 0\n",
        "\n",
        "counter = CounterV2()\n",
        "state = counter.reset()\n",
        "\n",
        "for _ in range(3):\n",
        "  value, state = counter.count(state)\n",
        "  print(value)\n",
        "\n",
        "state = counter.reset()\n",
        "fast_count = jax.jit(counter.count)\n",
        "\n",
        "for _ in range(3):\n",
        "  value, state = fast_count(state)\n",
        "  print(value)"
      ],
      "metadata": {
        "colab": {
          "base_uri": "https://localhost:8080/"
        },
        "id": "gQaokWN2ks3k",
        "outputId": "156cc4c9-8378-44b7-8ec3-4ae8710ac960"
      },
      "execution_count": null,
      "outputs": [
        {
          "output_type": "stream",
          "name": "stdout",
          "text": [
            "1\n",
            "2\n",
            "3\n",
            "1\n",
            "2\n",
            "3\n"
          ]
        }
      ]
    },
    {
      "cell_type": "code",
      "source": [
        "f = lambda x, y, z, w: x**2 + y**2 + z**2 + w**2\n",
        "\n",
        "x, y, z, w = [1.]*4\n",
        "dfdx, dfdy, dfdz, dfdw = grad(f, argnums=(0, 1, 2, 3))(x, y, z, w)\n",
        "print(dfdx, dfdy, dfdz, dfdw)"
      ],
      "metadata": {
        "colab": {
          "base_uri": "https://localhost:8080/"
        },
        "id": "Gn1e-1atlhtZ",
        "outputId": "4dd1f9b9-aba3-48d7-ad81-1d36bbd5c24a"
      },
      "execution_count": null,
      "outputs": [
        {
          "output_type": "stream",
          "name": "stdout",
          "text": [
            "2.0 2.0 2.0 2.0\n"
          ]
        }
      ]
    },
    {
      "cell_type": "code",
      "source": [
        "pytree_example = [\n",
        "    [1, 'a', object()],\n",
        "    (1, (2, 3), ()),\n",
        "    [1, {'k1': 2, 'k2': (3, 4)}, 5],\n",
        "    {'a': 2, 'b': (2, 3)},\n",
        "    jnp.array([1, 2, 3]),\n",
        "]\n",
        "\n",
        "for pytree  in pytree_example:\n",
        "  leaves = jax.tree_leaves(pytree)\n",
        "  print(f\"{repr(pytree):<45} has {len(leaves)} leaves: {leaves}\")"
      ],
      "metadata": {
        "colab": {
          "base_uri": "https://localhost:8080/"
        },
        "id": "0UKqWV46nJia",
        "outputId": "9aa2b737-8562-4374-cf2b-02c133198818"
      },
      "execution_count": null,
      "outputs": [
        {
          "output_type": "stream",
          "name": "stdout",
          "text": [
            "[1, 'a', <object object at 0x7c57a984bc50>]   has 3 leaves: [1, 'a', <object object at 0x7c57a984bc50>]\n",
            "(1, (2, 3), ())                               has 3 leaves: [1, 2, 3]\n",
            "[1, {'k1': 2, 'k2': (3, 4)}, 5]               has 5 leaves: [1, 2, 3, 4, 5]\n",
            "{'a': 2, 'b': (2, 3)}                         has 3 leaves: [2, 2, 3]\n",
            "Array([1, 2, 3], dtype=int32)                 has 1 leaves: [Array([1, 2, 3], dtype=int32)]\n"
          ]
        },
        {
          "output_type": "stream",
          "name": "stderr",
          "text": [
            "<ipython-input-105-278f6f193365>:10: DeprecationWarning: jax.tree_leaves is deprecated: use jax.tree.leaves (jax v0.4.25 or newer) or jax.tree_util.tree_leaves (any JAX version).\n",
            "  leaves = jax.tree_leaves(pytree)\n"
          ]
        }
      ]
    },
    {
      "cell_type": "code",
      "source": [
        "list_of_lists = [\n",
        "    {'a': 3},\n",
        "    [1, 2, 3],\n",
        "    [1, 2],\n",
        "    [1, 2, 3, 4]\n",
        "]\n",
        "\n",
        "print(jax.tree.map(lambda x: x*2, list_of_lists))\n",
        "\n",
        "another_list_of_lists = list_of_lists\n",
        "print(jax.tree.map(lambda x, y: x+y, list_of_lists, another_list_of_lists))\n",
        "\n",
        "# PyTrees need to have the same structure if we are to apply three_multimap!\n",
        "another_list_of_lists = deepcopy(list_of_lists)\n",
        "another_list_of_lists.append([23])\n",
        "# print(jax.tree.map(lambda x, y: x+y, list_of_lists, another_list_of_lists))"
      ],
      "metadata": {
        "colab": {
          "base_uri": "https://localhost:8080/"
        },
        "id": "BvNpetUaniU8",
        "outputId": "1c6f32a9-3511-457f-8c49-a676c42a0774"
      },
      "execution_count": null,
      "outputs": [
        {
          "output_type": "stream",
          "name": "stdout",
          "text": [
            "[{'a': 6}, [2, 4, 6], [2, 4], [2, 4, 6, 8]]\n",
            "[{'a': 6}, [2, 4, 6], [2, 4], [2, 4, 6, 8]]\n"
          ]
        }
      ]
    },
    {
      "cell_type": "code",
      "source": [
        "def init_mlp_params(layer_widths):\n",
        "  params = []\n",
        "\n",
        "  # Allocate weights and biases\n",
        "  for n_in, n_out in zip(layer_widths[:-1], layer_widths[1:]):\n",
        "    params.append(\n",
        "        dict(widths=np.random.normal(size=(n_in, n_out)) * np.sqrt(2/n_in),\n",
        "             biases=np.ones(shape=(n_out,))\n",
        "             )\n",
        "    )\n",
        "    return params\n",
        "\n",
        "# Instantiate a single input - single output, 3 layer (2 hidden layers) deep MLP\n",
        "params = init_mlp_params([1, 128, 128, 1])\n",
        "\n",
        "# Another example of how we might use  tree_map - verify that shapes make sense:\n",
        "jax.tree.map(lambda x: x.shape, params)"
      ],
      "metadata": {
        "colab": {
          "base_uri": "https://localhost:8080/"
        },
        "id": "QGryuws8oQbF",
        "outputId": "8cb96e09-cf4a-450f-aba8-02a0e4b753f1"
      },
      "execution_count": null,
      "outputs": [
        {
          "output_type": "execute_result",
          "data": {
            "text/plain": [
              "[{'biases': (128,), 'widths': (1, 128)}]"
            ]
          },
          "metadata": {},
          "execution_count": 107
        }
      ]
    },
    {
      "cell_type": "code",
      "source": [
        "def forward(params, x):\n",
        "    *hidden, last = params\n",
        "\n",
        "    for layer in hidden:\n",
        "        x = jax.nn.relu(jnp.dot(x, layer['weights']) + layer['biases'])\n",
        "\n",
        "    return jnp.dot(x, last['weights']) + last['biases']\n",
        "\n",
        "def loss_fn(params, x, y):\n",
        "    return jnp.mean((forward(params, x) - y) ** 2)  # MSE loss\n",
        "\n",
        "lr = 0.0001\n",
        "\n",
        "@jit\n",
        "def update(params, x, y):\n",
        "  grads = jax.grad(loss_fn)(params, x, y)\n",
        "\n",
        "  return jax.tree.map(\n",
        "      lambda p, g: p - lr * g, params, grads  # for every lead i.e. for every param of MLP\n",
        "  )"
      ],
      "metadata": {
        "id": "xyFfkB4jp3yx"
      },
      "execution_count": null,
      "outputs": []
    },
    {
      "cell_type": "code",
      "source": [
        "xs = np.random.normal(size=(128, 1))\n",
        "ys = xs ** 2\n",
        "\n",
        "\n",
        "# num_epochs = 5000\n",
        "# for _ in range(num_epochs):\n",
        "    # params = update(params, xs, ys)\n",
        "\n"
      ],
      "metadata": {
        "id": "JAltSwDzrjHn"
      },
      "execution_count": null,
      "outputs": []
    },
    {
      "cell_type": "markdown",
      "source": [
        "# Custom PyTrees"
      ],
      "metadata": {
        "id": "c15q4HGOtvQr"
      }
    },
    {
      "cell_type": "code",
      "source": [
        "class MyContainer:\n",
        "  \"\"\"A named container\"\"\"\n",
        "  def __init__(self, name: str, a: int, b: int, c: int):\n",
        "    self.name = name\n",
        "    self.a = a\n",
        "    self.b = b\n",
        "    self.c = c\n",
        "\n",
        "example_pytree = [MyContainer('Alice', 1, 2, 3), MyContainer('Bob', 4, 5, 6)]\n",
        "\n",
        "leaves = jax.tree.leaves(example_pytree)\n",
        "print(f\"{repr(example_pytree):<45}\\n has{len(leaves)} leaves:\\n {leaves}\")\n",
        "\n",
        "# print(jax.tree.map(lambda x: x + 1, example_pytree))"
      ],
      "metadata": {
        "colab": {
          "base_uri": "https://localhost:8080/"
        },
        "id": "1d9KJi9wsF5f",
        "outputId": "44246f9e-53c7-4bf4-d571-b182925dbca5"
      },
      "execution_count": null,
      "outputs": [
        {
          "output_type": "stream",
          "name": "stdout",
          "text": [
            "[<__main__.MyContainer object at 0x7c57a9103f10>, <__main__.MyContainer object at 0x7c57a9103fa0>]\n",
            " has2 leaves:\n",
            " [<__main__.MyContainer object at 0x7c57a9103f10>, <__main__.MyContainer object at 0x7c57a9103fa0>]\n"
          ]
        }
      ]
    },
    {
      "cell_type": "code",
      "source": [
        "def flatten_MyContainer(container):\n",
        "  \"\"\"Returns an iterable over container contents, and aux data.\"\"\"\n",
        "  flat_contents = [container.a, container.b, container.c]\n",
        "\n",
        "  aux_data = container.name\n",
        "\n",
        "  return flat_contents, aux_data\n",
        "\n",
        "def unflatten_MyContainer(aux_data, flat_contents):\n",
        "  \"\"\"Converts aux data and flat contents into a MyContainer.\"\"\"\n",
        "  return MyContainer(aux_data, *flat_contents)\n",
        "\n",
        "# Register a custom PyTree node\n",
        "jax.tree_util.register_pytree_node(MyContainer, flatten_MyContainer, unflatten_MyContainer)"
      ],
      "metadata": {
        "id": "rSnYizJRubul"
      },
      "execution_count": null,
      "outputs": []
    },
    {
      "cell_type": "code",
      "source": [
        "leaves = jax.tree.leaves(example_pytree)\n",
        "print(f\"{repr(example_pytree):<45}\\n has {len(leaves)} leaves:\\n {leaves}\")"
      ],
      "metadata": {
        "colab": {
          "base_uri": "https://localhost:8080/"
        },
        "id": "SFsum9Lc-2wj",
        "outputId": "98d995a1-d6dd-4247-e33d-590619ac8859"
      },
      "execution_count": null,
      "outputs": [
        {
          "output_type": "stream",
          "name": "stdout",
          "text": [
            "[<__main__.MyContainer object at 0x7c57a9103f10>, <__main__.MyContainer object at 0x7c57a9103fa0>]\n",
            " has 6 leaves:\n",
            " [1, 2, 3, 4, 5, 6]\n"
          ]
        }
      ]
    },
    {
      "cell_type": "code",
      "source": [
        "result = jax.tree.map(lambda x: x + 1, example_pytree)\n",
        "print(jax.tree.leaves(result))"
      ],
      "metadata": {
        "colab": {
          "base_uri": "https://localhost:8080/"
        },
        "id": "BIuOf2JAAxJC",
        "outputId": "0e0690cb-a506-4957-a3de-905272e7c98d"
      },
      "execution_count": null,
      "outputs": [
        {
          "output_type": "stream",
          "name": "stdout",
          "text": [
            "[2, 3, 4, 5, 6, 7]\n"
          ]
        }
      ]
    },
    {
      "cell_type": "code",
      "source": [
        "zeros_tree = [jnp.zeros((2, 3)), jnp.zeros((3, 4))]\n",
        "print(zeros_tree)"
      ],
      "metadata": {
        "colab": {
          "base_uri": "https://localhost:8080/"
        },
        "id": "BbYmeiF-BE8u",
        "outputId": "cf048da5-37e5-4cc4-90e0-866228bfe687"
      },
      "execution_count": null,
      "outputs": [
        {
          "output_type": "stream",
          "name": "stdout",
          "text": [
            "[Array([[0., 0., 0.],\n",
            "       [0., 0., 0.]], dtype=float32), Array([[0., 0., 0., 0.],\n",
            "       [0., 0., 0., 0.],\n",
            "       [0., 0., 0., 0.]], dtype=float32)]\n"
          ]
        }
      ]
    },
    {
      "cell_type": "code",
      "source": [
        "shapes = jax.tree.map(lambda x: x.shape, zeros_tree)\n",
        "print(shapes)\n",
        "\n",
        "ones_tree = jax.tree.map(jnp.ones, shapes)\n",
        "print(ones_tree)"
      ],
      "metadata": {
        "colab": {
          "base_uri": "https://localhost:8080/"
        },
        "id": "h44zz7PxBNeb",
        "outputId": "50bd7fc9-1c6c-43c0-d6c4-2960a4eca432"
      },
      "execution_count": null,
      "outputs": [
        {
          "output_type": "stream",
          "name": "stdout",
          "text": [
            "[(2, 3), (3, 4)]\n",
            "[(Array([1., 1.], dtype=float32), Array([1., 1., 1.], dtype=float32)), (Array([1., 1., 1.], dtype=float32), Array([1., 1., 1., 1.], dtype=float32))]\n"
          ]
        }
      ]
    },
    {
      "cell_type": "code",
      "source": [
        "import jax.tools.colab_tpu\n",
        "# jax.tools.colab_tpu.setup_tpu()\n",
        "\n",
        "jax.devices()"
      ],
      "metadata": {
        "colab": {
          "base_uri": "https://localhost:8080/"
        },
        "id": "miqNMmNlB7G5",
        "outputId": "5c38b49d-3662-4a2e-818d-4df69469e830"
      },
      "execution_count": null,
      "outputs": [
        {
          "output_type": "execute_result",
          "data": {
            "text/plain": [
              "[CpuDevice(id=0)]"
            ]
          },
          "metadata": {},
          "execution_count": 116
        }
      ]
    },
    {
      "cell_type": "code",
      "source": [
        "x = np.arange(5)\n",
        "w = np.array([2., 3., 4.])\n",
        "\n",
        "def convolve(w, x):\n",
        "  output = []\n",
        "\n",
        "  for i in range(1, len(x) - 1):\n",
        "    output.append(jnp.dot(x[i-1:i+2], w))\n",
        "\n",
        "  return jnp.array(output)\n",
        "\n",
        "result = convolve(w, x)\n",
        "print(repr(result))"
      ],
      "metadata": {
        "colab": {
          "base_uri": "https://localhost:8080/"
        },
        "id": "IwOT_Z7iCXMY",
        "outputId": "818754ee-ec5b-438c-db2a-06c978517568"
      },
      "execution_count": null,
      "outputs": [
        {
          "output_type": "stream",
          "name": "stdout",
          "text": [
            "Array([11., 20., 29.], dtype=float32)\n"
          ]
        }
      ]
    },
    {
      "cell_type": "code",
      "source": [
        "n_devices = jax.local_device_count()\n",
        "print(f\"Number of available devices: {n_devices}\")\n",
        "\n",
        "xs = np.arange(5 * n_devices).reshape(-1, 5)\n",
        "ws = np.stack([w] * n_devices)\n",
        "\n",
        "print(xs.shape, ws.shape)"
      ],
      "metadata": {
        "colab": {
          "base_uri": "https://localhost:8080/"
        },
        "id": "-APOZJnWC_zp",
        "outputId": "592d526c-6d44-481b-a657-e59202d833cf"
      },
      "execution_count": null,
      "outputs": [
        {
          "output_type": "stream",
          "name": "stdout",
          "text": [
            "Number of available devices: 1\n",
            "(1, 5) (1, 3)\n"
          ]
        }
      ]
    },
    {
      "cell_type": "code",
      "source": [
        "# First way to optimize it is vmap\n",
        "vmap_result = jax.vmap(convolve)(ws, xs)\n",
        "print(repr(vmap_result))"
      ],
      "metadata": {
        "colab": {
          "base_uri": "https://localhost:8080/"
        },
        "id": "oZoW7WC3DkXV",
        "outputId": "3832d6fb-b03c-4555-a0a9-c156206a3db6"
      },
      "execution_count": null,
      "outputs": [
        {
          "output_type": "stream",
          "name": "stdout",
          "text": [
            "Array([[11., 20., 29.]], dtype=float32)\n"
          ]
        }
      ]
    },
    {
      "cell_type": "code",
      "source": [
        "# If just swap vmap for pmap the running on multiple devices\n",
        "pmap_result = jax.pmap(convolve)(ws, xs)\n",
        "print(repr(pmap_result))  # SharedDeviceArray"
      ],
      "metadata": {
        "colab": {
          "base_uri": "https://localhost:8080/"
        },
        "id": "r1bH4RLsD3hs",
        "outputId": "a521b5a5-6e55-4928-cf2a-4d6048486e91"
      },
      "execution_count": null,
      "outputs": [
        {
          "output_type": "stream",
          "name": "stdout",
          "text": [
            "Array([[11., 20., 29.]], dtype=float32)\n"
          ]
        }
      ]
    },
    {
      "cell_type": "code",
      "source": [
        "# No cross-device communication costs. Computations are done independently on each dev\n",
        "double_pmap_result = jax.pmap(convolve)(jax.pmap(convolve)(ws, xs), xs)\n",
        "print(repr(double_pmap_result))"
      ],
      "metadata": {
        "colab": {
          "base_uri": "https://localhost:8080/"
        },
        "id": "Q2dYmT_7EHk3",
        "outputId": "3ed944aa-1875-4b31-ee2e-880ce7915175"
      },
      "execution_count": null,
      "outputs": [
        {
          "output_type": "stream",
          "name": "stdout",
          "text": [
            "Array([[ 78., 138., 198.]], dtype=float32)\n"
          ]
        }
      ]
    },
    {
      "cell_type": "code",
      "source": [
        "# Same results but don;t have to manually broadcast w\n",
        "pmap_smarter_result = jax.pmap(convolve, in_axes=(None, 0))(w, xs)\n",
        "print(repr(pmap_smarter_result))"
      ],
      "metadata": {
        "colab": {
          "base_uri": "https://localhost:8080/"
        },
        "id": "YMoz-FWiEkoS",
        "outputId": "bf7aaf39-4503-4b0e-a35e-1274b3918da4"
      },
      "execution_count": null,
      "outputs": [
        {
          "output_type": "stream",
          "name": "stdout",
          "text": [
            "Array([[11., 20., 29.]], dtype=float32)\n"
          ]
        }
      ]
    },
    {
      "cell_type": "code",
      "source": [
        "def normalized_convolution(w, x):\n",
        "  output = []\n",
        "\n",
        "  for i in range(1, len(x)-1):\n",
        "    output.append(jnp.dot(x[i-1:i+2], w))\n",
        "\n",
        "  output = jnp.array(output)\n",
        "\n",
        "  return output / jax.lax.psum(output, axis_name=\"batch_dim\")  # Here communication happens\n",
        "\n",
        "res_pmap = jax.pmap(normalized_convolution, axis_name=\"batch_dim\", in_axes=(None, 0))(w, xs)\n",
        "res_vmap = jax.vmap(normalized_convolution, axis_name=\"batch_dim\", in_axes=(None, 0))(w, xs)\n",
        "\n",
        "print(repr(res_pmap))\n",
        "print(repr(res_vmap))\n",
        "\n",
        "print(f\"Verify the output is normalized: {sum(res_pmap[:, 0])}\")"
      ],
      "metadata": {
        "colab": {
          "base_uri": "https://localhost:8080/"
        },
        "id": "OGfpJUxmFDRK",
        "outputId": "1428ff95-6203-48f7-f46c-d7176eecb00b"
      },
      "execution_count": null,
      "outputs": [
        {
          "output_type": "stream",
          "name": "stdout",
          "text": [
            "Array([[1., 1., 1.]], dtype=float32)\n",
            "Array([[1., 1., 1.]], dtype=float32)\n",
            "Verify the output is normalized: 1.0\n"
          ]
        }
      ]
    },
    {
      "cell_type": "code",
      "source": [
        "def sum_squared_error(x, y):\n",
        "  return sum((x-y)**2)\n",
        "\n",
        "x = jnp.arange(4, dtype=jnp.float32)\n",
        "y = x + 0.1\n",
        "\n",
        "# An efficient way to return both grads and loss value\n",
        "jax.value_and_grad(sum_squared_error)(x, y)\n",
        "\n",
        "# def sum_squared_error_with_aux(x, y):\n",
        "#     return sum((x-y)**2), x-y\n",
        "\n",
        "# jax.grad(sum_squared_error_with_aux)(x, y)"
      ],
      "metadata": {
        "colab": {
          "base_uri": "https://localhost:8080/"
        },
        "id": "fPF9f1fsGMAA",
        "outputId": "232c3e5e-44c0-43ba-b345-32881b1bf261"
      },
      "execution_count": null,
      "outputs": [
        {
          "output_type": "execute_result",
          "data": {
            "text/plain": [
              "(Array(0.03999997, dtype=float32),\n",
              " Array([-0.2       , -0.20000005, -0.19999981, -0.19999981], dtype=float32))"
            ]
          },
          "metadata": {},
          "execution_count": 124
        }
      ]
    },
    {
      "cell_type": "code",
      "source": [
        "class Params(NamedTuple):\n",
        "  weight: jnp.ndarray\n",
        "  bias: jnp.ndarray\n",
        "\n",
        "\n",
        "lr = 0.005\n",
        "\n",
        "\n",
        "def init_model(rng):\n",
        "  weights_key, bias_key = jax.random.split(rng)\n",
        "  weight = jax.random.normal(weights_key, ())\n",
        "  bias = jax.random.normal(bias_key, ())\n",
        "  return Params(weight, bias)\n",
        "\n",
        "\n",
        "def forward(params, xs):\n",
        "  return params.weight * xs + params.bias\n",
        "\n",
        "\n",
        "def loss_fn(params, xs, ys):\n",
        "  pred = forward(params, xs)\n",
        "  return jnp.mean((pred - ys) ** 2)  # MSE\n",
        "\n",
        "@functools.partial(jax.pmap, axis_name='batch')\n",
        "def update(params, xs, ys):\n",
        "\n",
        "    # Compute the gradients on the given minibatch (individually on each device).\n",
        "    loss, grads = jax.value_and_grad(loss_fn)(params, xs, ys)\n",
        "\n",
        "    # Combine the gradient across all devices (by taking their mean).\n",
        "    grads = jax.lax.pmean(grads, axis_name='batch')\n",
        "\n",
        "    # Also combine the loss. Unnecessary for the update, but useful for logging.\n",
        "    loss = jax.lax.pmean(loss, axis_name='batch')\n",
        "\n",
        "    # Each device performs its own SGD update, but since we start with the same params\n",
        "    # and synchronise gradients, the params stay in sync on each device.\n",
        "    new_params = jax.tree.map(\n",
        "        lambda param, g: param - g * lr, params, grads)\n",
        "\n",
        "    return new_params, loss"
      ],
      "metadata": {
        "id": "n61OYd_uHhpV"
      },
      "execution_count": null,
      "outputs": []
    },
    {
      "cell_type": "code",
      "source": [
        "true_w, true_b = 2, -1\n",
        "xs = np.random.normal(size=(128, 1))\n",
        "noise = 0.5 * np.random.normal(size=(128, 1))\n",
        "ys = xs * true_w + true_b + noise\n",
        "\n",
        "plt.scatter(xs, ys)\n",
        "plt.show()"
      ],
      "metadata": {
        "colab": {
          "base_uri": "https://localhost:8080/",
          "height": 430
        },
        "id": "Xbstp6LrJvby",
        "outputId": "0eb8df8f-29ea-44f4-dda4-1ed982c881e6"
      },
      "execution_count": null,
      "outputs": [
        {
          "output_type": "display_data",
          "data": {
            "text/plain": [
              "<Figure size 640x480 with 1 Axes>"
            ],
            "image/png": "[encoded data removed]"
          },
          "metadata": {}
        }
      ]
    },
    {
      "cell_type": "code",
      "source": [
        "# Initialize parameters and replicate across devices\n",
        "params = init_model(jax.random.PRNGKey(0))\n",
        "n_devices = jax.local_device_count()\n",
        "replicated_params = jax.tree.map(lambda x: jnp.array([x] * n_devices), params)\n",
        "print(replicated_params)\n",
        "\n",
        "def reshape_for_pmap(data, n_devices):\n",
        "  return data.reshape(n_devices, data.shape[0] // n_devices, *data.shape[1:])\n",
        "\n",
        "x_parallel = reshape_for_pmap(xs, n_devices)\n",
        "y_parallel = reshape_for_pmap(ys, n_devices)\n",
        "\n",
        "print(x_parallel.shape, y_parallel.shape)"
      ],
      "metadata": {
        "colab": {
          "base_uri": "https://localhost:8080/"
        },
        "id": "tvIkPAclKGKA",
        "outputId": "ffa35105-c8be-4cc2-d0c1-24ce761032a8"
      },
      "execution_count": null,
      "outputs": [
        {
          "output_type": "stream",
          "name": "stdout",
          "text": [
            "Params(weight=Array([0.14389051], dtype=float32), bias=Array([-1.2515389], dtype=float32))\n",
            "(1, 128, 1) (1, 128, 1)\n"
          ]
        }
      ]
    },
    {
      "cell_type": "code",
      "source": [
        "def type_after_update(name, obj):\n",
        "  print(f\"After first update(), {name} is a {type(obj)}\")\n",
        "\n",
        "num_epochs = 1000\n",
        "for epoch in range(num_epochs):\n",
        "  # Here the params and data gets communicated to devices\n",
        "  replicated_params, loss = update(replicated_params, x_parallel, y_parallel)\n",
        "\n",
        "  # Replicated_params and loss are no both SharedDeviceArrays\n",
        "  # Incidacting that they're on the devices\n",
        "  # x/y_parallel remains a NumPy array on the host (simulating data streaming)\n",
        "  if epoch == 0:\n",
        "    type_after_update(\"replicated_params.weight\", replicated_params.weight)\n",
        "    type_after_update(\"loss\", loss)\n",
        "    type_after_update(\"x_parallel\", x_parallel)\n",
        "\n",
        "  if epoch % 100 == 0:\n",
        "    print(loss.shape)\n",
        "    print(f\"Step {epoch:.3f}, loss: {loss[0]:.3f}\")\n",
        "\n",
        "params = jax.device_get(jax.tree.map(lambda x: x[0], replicated_params))"
      ],
      "metadata": {
        "id": "hFmQjJ5qLQN9",
        "colab": {
          "base_uri": "https://localhost:8080/"
        },
        "outputId": "31af0de1-835a-4302-fce8-efad0225956d"
      },
      "execution_count": null,
      "outputs": [
        {
          "output_type": "stream",
          "name": "stdout",
          "text": [
            "After first update(), replicated_params.weight is a <class 'jaxlib.xla_extension.ArrayImpl'>\n",
            "After first update(), loss is a <class 'jaxlib.xla_extension.ArrayImpl'>\n",
            "After first update(), x_parallel is a <class 'numpy.ndarray'>\n",
            "(1,)\n",
            "Step 0.000, loss: 0.235\n",
            "(1,)\n",
            "Step 100.000, loss: 0.235\n",
            "(1,)\n",
            "Step 200.000, loss: 0.235\n",
            "(1,)\n",
            "Step 300.000, loss: 0.235\n",
            "(1,)\n",
            "Step 400.000, loss: 0.235\n",
            "(1,)\n",
            "Step 500.000, loss: 0.235\n",
            "(1,)\n",
            "Step 600.000, loss: 0.235\n",
            "(1,)\n",
            "Step 700.000, loss: 0.235\n",
            "(1,)\n",
            "Step 800.000, loss: 0.235\n",
            "(1,)\n",
            "Step 900.000, loss: 0.235\n"
          ]
        }
      ]
    },
    {
      "cell_type": "code",
      "source": [
        "plt.scatter(xs, ys)\n",
        "plt.plot(xs, forward(params, xs), c='red', label='Model Precision')\n",
        "plt.legend()\n",
        "plt.show()"
      ],
      "metadata": {
        "colab": {
          "base_uri": "https://localhost:8080/",
          "height": 430
        },
        "id": "IBLix3yVaPXY",
        "outputId": "893a7899-eb5d-4a67-d9ba-55cc81bdc9df"
      },
      "execution_count": null,
      "outputs": [
        {
          "output_type": "display_data",
          "data": {
            "text/plain": [
              "<Figure size 640x480 with 1 Axes>"
            ],
            "image/png": "[encoded data removed]"
          },
          "metadata": {}
        }
      ]
    },
    {
      "cell_type": "code",
      "source": [
        "# Value function (simple linear fn) and initial parameters\n",
        "value_fn = lambda theta, state: jnp.dot(theta, state)\n",
        "theta = jnp.array([0.1, -0.1, 0.])\n",
        "\n",
        "# Example transition\n",
        "s_tm1 = jnp.array([1., 2., -1.])\n",
        "r_t = jnp.array(1.)\n",
        "s_t = jnp.array([2., 1., 0])\n",
        "\n",
        "def td_loss(theta, s_tm1, r_t, s_t):\n",
        "  v_tm1 = value_fn(theta, s_tm1)\n",
        "  target = r_t + value_fn(theta, s_t)\n",
        "  return (jax.lax.stop_gradient(target) - v_tm1) ** 2"
      ],
      "metadata": {
        "id": "cymKkVagbriC"
      },
      "execution_count": null,
      "outputs": []
    },
    {
      "cell_type": "code",
      "source": [
        "# Per sample gradients\n",
        "\n",
        "# Batch the data\n",
        "batched_s_tm1 = jnp.stack([s_tm1, s_tm1])\n",
        "batched_r_t = jnp.stack([r_t, r_t])\n",
        "batched_s_t = jnp.stack([s_t, s_t])\n",
        "\n",
        "perex_grads = jax.jit(jax.vmap(jax.grad(td_loss), in_axes=(None, 0, 0, 0)))\n",
        "perex_grads(theta, batched_s_tm1, batched_r_t, batched_s_t)"
      ],
      "metadata": {
        "id": "C9te9RJzdSuu"
      },
      "execution_count": null,
      "outputs": []
    }
  ]
}