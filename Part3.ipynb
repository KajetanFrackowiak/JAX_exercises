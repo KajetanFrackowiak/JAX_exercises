{
  "nbformat": 4,
  "nbformat_minor": 0,
  "metadata": {
    "colab": {
      "provenance": []
    },
    "kernelspec": {
      "name": "python3",
      "display_name": "Python 3"
    },
    "language_info": {
      "name": "python"
    }
  },
  "cells": [
    {
      "cell_type": "markdown",
      "source": [
        "# MLP training on MNIST"
      ],
      "metadata": {
        "id": "LSxUNYKfjIeL"
      }
    },
    {
      "cell_type": "code",
      "execution_count": 13,
      "metadata": {
        "id": "DAOew2uai5-3"
      },
      "outputs": [],
      "source": [
        "# todo: init MLP and add the predict\n",
        "# todo: add data loading in PyTorch\n",
        "# todo: add the training loop, loss_fn\n",
        "\n",
        "import numpy as np\n",
        "import jax.numpy as jnp\n",
        "from jax.scipy.special import logsumexp\n",
        "import jax\n",
        "from jax import jit, vmap, pmap, grad, value_and_grad\n",
        "\n",
        "from torchvision.datasets import MNIST\n",
        "from torch.utils.data import DataLoader"
      ]
    },
    {
      "cell_type": "code",
      "source": [
        "seed = 0\n",
        "mnist_img_size = (28, 28)\n",
        "\n",
        "def init_MLP(layer_widths, key, scale=0.01):\n",
        "  params = []\n",
        "  keys = jax.random.split(key, num=len(layer_widths)-1)\n",
        "\n",
        "  for in_width, out_width, key in zip(layer_widths[:-1], layer_widths[1:], keys):\n",
        "    weight_key, bias_key = jax.random.split(key)\n",
        "    params.append(\n",
        "        [scale*jax.random.normal(weight_key, shape=(out_width, in_width)),\n",
        "         scale*jax.random.normal(bias_key, shape=(out_width,))]\n",
        "    )\n",
        "\n",
        "  return params\n",
        "\n",
        "key = jax.random.PRNGKey(seed)\n",
        "MLP_params = init_MLP([784, 512, 256, 10], key)\n",
        "print(jax.tree.map(lambda x: x.shape, MLP_params))"
      ],
      "metadata": {
        "colab": {
          "base_uri": "https://localhost:8080/"
        },
        "id": "HRsS2GF7j2FT",
        "outputId": "019e50b8-1433-496a-9e2d-77889014261d"
      },
      "execution_count": 14,
      "outputs": [
        {
          "output_type": "stream",
          "name": "stdout",
          "text": [
            "[[(512, 784), (512,)], [(256, 512), (256,)], [(10, 256), (10,)]]\n"
          ]
        }
      ]
    },
    {
      "cell_type": "code",
      "source": [
        "def MLP_predict(params, x):\n",
        "  hidden_layers = params[:-1]\n",
        "\n",
        "  activation = x\n",
        "  for w, b in hidden_layers:\n",
        "    activation = jax.nn.relu(jnp.dot(w, activation) + b)\n",
        "\n",
        "  w_last, b_last = params[-1]\n",
        "  logits = jnp.dot(w_last, activation) + b_last\n",
        "\n",
        "  return logits - logsumexp(logits)\n",
        "\n",
        "# test single example\n",
        "dummy_img_flat = np.random.randn(np.prod(mnist_img_size))\n",
        "print(dummy_img_flat.shape)\n",
        "\n",
        "prediction = MLP_predict(MLP_params, dummy_img_flat)\n",
        "print(prediction.shape)\n",
        "\n",
        "# test batched function\n",
        "batched_MLP_predict =  vmap(MLP_predict, in_axes=(None, 0))\n",
        "\n",
        "dummy_imgs_flat = np.random.randn(16, np.prod(mnist_img_size))\n",
        "print(dummy_imgs_flat.shape)\n",
        "predictions = batched_MLP_predict(MLP_params, dummy_imgs_flat)\n",
        "print(predictions.shape)"
      ],
      "metadata": {
        "id": "k9Jlh2too3P5",
        "colab": {
          "base_uri": "https://localhost:8080/"
        },
        "outputId": "37160d7e-d8cc-44b7-eb0e-aa8a35c08598"
      },
      "execution_count": 15,
      "outputs": [
        {
          "output_type": "stream",
          "name": "stdout",
          "text": [
            "(784,)\n",
            "(10,)\n",
            "(16, 784)\n",
            "(16, 10)\n"
          ]
        }
      ]
    },
    {
      "cell_type": "markdown",
      "source": [
        "# Visualizations"
      ],
      "metadata": {
        "id": "o5hz7bZgjMwD"
      }
    },
    {
      "cell_type": "code",
      "source": [
        "def custom_transform(x):\n",
        "  return np.ravel(np.array(x, dtype=np.float32))\n",
        "\n",
        "def custom_collate_fn(batch):\n",
        "  transposed_data = list(zip(*batch))\n",
        "\n",
        "  labels = np.array(transposed_data[1])\n",
        "  imgs = np.stack(transposed_data[0])\n",
        "\n",
        "  return imgs, labels\n",
        "\n",
        "batch_size = 128\n",
        "train_dataset = MNIST(root='train_mnist', train=True, download=True, transform=custom_transform)\n",
        "test_dataset = MNIST(root='test_mnist', train=False, download=True, transform=custom_transform)\n",
        "\n",
        "train_loader = DataLoader(train_dataset, batch_size, shuffle=True, collate_fn=custom_collate_fn)\n",
        "test_loader = DataLoader(test_dataset, batch_size, shuffle=False, collate_fn=custom_collate_fn)\n",
        "\n",
        "# test\n",
        "batch_data = next(iter(train_loader))\n",
        "imgs = batch_data[0]\n",
        "lbls = batch_data[1]\n",
        "print(imgs.shape, imgs[0].dtype, lbls.shape, lbls[0].dtype)\n",
        "\n",
        "# optimization - Loading the whole dataset into memory\n",
        "train_images = jnp.array(train_dataset.data).reshape(len(train_dataset), -1)\n",
        "train_lbls = jnp.array(train_dataset.targets)\n",
        "\n",
        "test_images = jnp.array(test_dataset.data).reshape(len(test_dataset), -1)\n",
        "test_lbls = jnp.array(test_dataset.targets)"
      ],
      "metadata": {
        "id": "mSLMYxdpjQgi",
        "colab": {
          "base_uri": "https://localhost:8080/"
        },
        "outputId": "26ae8b0a-eb68-4553-d09b-744f49163fb2"
      },
      "execution_count": 16,
      "outputs": [
        {
          "output_type": "stream",
          "name": "stdout",
          "text": [
            "(128, 784) float32 (128,) int64\n"
          ]
        }
      ]
    },
    {
      "cell_type": "code",
      "source": [
        "num_epochs = 5\n",
        "\n",
        "def loss_fn(params, imgs, gt_lbls):\n",
        "  predictions = batched_MLP_predict(params, imgs)\n",
        "\n",
        "  return -jnp.mean(predictions * gt_lbls)\n",
        "\n",
        "def accuracy(params, dataset_imgs, dataset_lbls):\n",
        "  pred_classes = jnp.argmax(batched_MLP_predict(params, dataset_imgs), axis=1)\n",
        "  return jnp.mean(dataset_lbls == pred_classes)\n",
        "\n",
        "@jit\n",
        "def update(params, imgs, gt_lbls, lr=0.001):\n",
        "  loss, grads = value_and_grad(loss_fn)(params, imgs, gt_lbls)\n",
        "\n",
        "  return loss, jax.tree.map(lambda p, g: p - lr*g, params, grads)\n",
        "\n",
        "# Create a MLP\n",
        "MLP_params = init_MLP([np.prod(mnist_img_size), 512, 256, len(MNIST.classes)], key)\n",
        "\n",
        "for epoch in range(num_epochs):\n",
        "  for cnt, (imgs, lbls) in enumerate(train_loader):\n",
        "    gt_labels = jax.nn.one_hot(lbls, len(MNIST.classes))\n",
        "    loss, MLP_params = update(MLP_params, imgs, gt_labels)\n",
        "\n",
        "    if cnt % 50 == 0:\n",
        "      print(loss)\n",
        "\n",
        "  print(f'Epoch {epoch}, train acc = {accuracy(MLP_params, train_images, train_lbls)} test acc = {accuracy(MLP_params, test_images, test_lbls)}')"
      ],
      "metadata": {
        "colab": {
          "base_uri": "https://localhost:8080/"
        },
        "id": "0aJDLujyeZUt",
        "outputId": "abbc647b-8d39-46ec-9dd4-1278484fbb42"
      },
      "execution_count": 17,
      "outputs": [
        {
          "output_type": "stream",
          "name": "stdout",
          "text": [
            "0.22609685\n",
            "0.21552484\n",
            "0.19396439\n",
            "0.18211158\n",
            "0.16907325\n",
            "0.15062459\n",
            "0.12781635\n",
            "0.12361882\n",
            "0.11515732\n",
            "0.106291726\n",
            "Epoch 0, train acc = 0.8027999997138977 test acc = 0.8154000043869019\n",
            "0.089632265\n",
            "0.09984415\n",
            "0.08312095\n",
            "0.09267376\n",
            "0.07653828\n",
            "0.07014528\n",
            "0.08422338\n",
            "0.058063645\n",
            "0.06021854\n",
            "0.05665483\n",
            "Epoch 1, train acc = 0.8540666699409485 test acc = 0.8636999726295471\n",
            "0.057929795\n",
            "0.055723526\n",
            "0.05954603\n",
            "0.051448073\n",
            "0.051477134\n",
            "0.061321862\n",
            "0.04192686\n",
            "0.045966562\n",
            "0.051262982\n",
            "0.046075273\n",
            "Epoch 2, train acc = 0.8752833604812622 test acc = 0.8849999904632568\n",
            "0.041312616\n",
            "0.050558567\n",
            "0.05337261\n",
            "0.039957162\n",
            "0.058433235\n",
            "0.04159364\n",
            "0.046473846\n",
            "0.028121948\n",
            "0.045003124\n",
            "0.04036655\n",
            "Epoch 3, train acc = 0.8883833289146423 test acc = 0.8944000005722046\n",
            "0.039104037\n",
            "0.04804538\n",
            "0.043820843\n",
            "0.032421853\n",
            "0.03206045\n",
            "0.036104422\n",
            "0.030237919\n",
            "0.035892274\n",
            "0.029826075\n",
            "0.03619791\n",
            "Epoch 4, train acc = 0.8964666724205017 test acc = 0.9025999903678894\n"
          ]
        }
      ]
    },
    {
      "cell_type": "code",
      "source": [
        "imgs, lbls = next(iter(test_loader))\n",
        "img = imgs[0].reshape(mnist_img_size)\n",
        "gt_lbl = lbls[0]\n",
        "print(img.shape)\n",
        "\n",
        "import matplotlib.pyplot as plt\n",
        "\n",
        "pred = jnp.argmax(MLP_predict(MLP_params, np.ravel(img)))\n",
        "print('pred', pred)\n",
        "print('gt', gt_lbl)\n",
        "\n",
        "plt.imshow(img); plt.show()"
      ],
      "metadata": {
        "colab": {
          "base_uri": "https://localhost:8080/",
          "height": 482
        },
        "id": "C40JZBMYi-0G",
        "outputId": "9121f116-7cc8-44f9-961b-42980c2c00dc"
      },
      "execution_count": 18,
      "outputs": [
        {
          "output_type": "stream",
          "name": "stdout",
          "text": [
            "(28, 28)\n",
            "pred 7\n",
            "gt 7\n"
          ]
        },
        {
          "output_type": "display_data",
          "data": {
            "text/plain": [
              "<Figure size 640x480 with 1 Axes>"
            ],
            "image/png": "[encoded data removed]"
          },
          "metadata": {}
        }
      ]
    },
    {
      "cell_type": "markdown",
      "source": [
        "# Visualization"
      ],
      "metadata": {
        "id": "8XcVeKJAjpZy"
      }
    },
    {
      "cell_type": "code",
      "source": [
        "w = MLP_params[0][0]\n",
        "print(w.shape)\n",
        "\n",
        "w_single = w[500, :].reshape(mnist_img_size)\n",
        "print(w_single.shape)\n",
        "plt.imshow(w_single), plt.show()"
      ],
      "metadata": {
        "colab": {
          "base_uri": "https://localhost:8080/",
          "height": 482
        },
        "id": "El8xTWKujo0D",
        "outputId": "6f479405-cd8b-4f6c-e6e0-c04e5225bb52"
      },
      "execution_count": 19,
      "outputs": [
        {
          "output_type": "stream",
          "name": "stdout",
          "text": [
            "(512, 784)\n",
            "(28, 28)\n"
          ]
        },
        {
          "output_type": "display_data",
          "data": {
            "text/plain": [
              "<Figure size 640x480 with 1 Axes>"
            ],
            "image/png": "[encoded data removed]"
          },
          "metadata": {}
        },
        {
          "output_type": "execute_result",
          "data": {
            "text/plain": [
              "(<matplotlib.image.AxesImage at 0x7c12a6e2cdf0>, None)"
            ]
          },
          "metadata": {},
          "execution_count": 19
        }
      ]
    },
    {
      "cell_type": "code",
      "source": [
        "# Visualize embeddings using t-SNE\n",
        "from sklearn.manifold import TSNE\n",
        "\n",
        "def fetch_activation(params, x):\n",
        "  hidden_layers = params[:-1]\n",
        "\n",
        "  activation = x\n",
        "  for w, b in hidden_layers:\n",
        "    activation = jax.nn.relu(jnp.dot(w, activation) + b)\n",
        "\n",
        "  return activation\n",
        "\n",
        "batched_fetch_activation = vmap(fetch_activation, in_axes=(None, 0))\n",
        "imgs, lbls = next(iter(test_loader))\n",
        "\n",
        "batch_activations = batched_fetch_activation(MLP_params, imgs)\n",
        "print(batch_activations.shape)  # (128, 2)\n",
        "\n",
        "t_sne_embeddings = TSNE(n_components=2, perplexity=30,).fit_transform(batch_activations)\n",
        "cora_label_to_color_map = {0: \"red\", 1: \"blue\", 2: \"green\", 3: \"orange\", 4: \"yellow\", 5: \"pink\", 6: \"gray\"}\n",
        "\n",
        "for class_id in range(10):\n",
        "    plt.scatter(t_sne_embeddings[lbls == class_id, 0], t_sne_embeddings[lbls == class_id, 1], s=20, color=cora_label_to_color_map[class_id])\n",
        "plt.show()"
      ],
      "metadata": {
        "colab": {
          "base_uri": "https://localhost:8080/",
          "height": 641
        },
        "id": "UWva4PNekesD",
        "outputId": "cf7e46f8-96e8-4305-e268-f32dafa74283"
      },
      "execution_count": 22,
      "outputs": [
        {
          "output_type": "stream",
          "name": "stdout",
          "text": [
            "(128, 256)\n"
          ]
        },
        {
          "output_type": "error",
          "ename": "KeyError",
          "evalue": "7",
          "traceback": [
            "\u001b[0;31m---------------------------------------------------------------------------\u001b[0m",
            "\u001b[0;31mKeyError\u001b[0m                                  Traceback (most recent call last)",
            "\u001b[0;32m<ipython-input-22-eccad4df865d>\u001b[0m in \u001b[0;36m<cell line: 22>\u001b[0;34m()\u001b[0m\n\u001b[1;32m     21\u001b[0m \u001b[0;34m\u001b[0m\u001b[0m\n\u001b[1;32m     22\u001b[0m \u001b[0;32mfor\u001b[0m \u001b[0mclass_id\u001b[0m \u001b[0;32min\u001b[0m \u001b[0mrange\u001b[0m\u001b[0;34m(\u001b[0m\u001b[0;36m10\u001b[0m\u001b[0;34m)\u001b[0m\u001b[0;34m:\u001b[0m\u001b[0;34m\u001b[0m\u001b[0;34m\u001b[0m\u001b[0m\n\u001b[0;32m---> 23\u001b[0;31m     \u001b[0mplt\u001b[0m\u001b[0;34m.\u001b[0m\u001b[0mscatter\u001b[0m\u001b[0;34m(\u001b[0m\u001b[0mt_sne_embeddings\u001b[0m\u001b[0;34m[\u001b[0m\u001b[0mlbls\u001b[0m \u001b[0;34m==\u001b[0m \u001b[0mclass_id\u001b[0m\u001b[0;34m,\u001b[0m \u001b[0;36m0\u001b[0m\u001b[0;34m]\u001b[0m\u001b[0;34m,\u001b[0m \u001b[0mt_sne_embeddings\u001b[0m\u001b[0;34m[\u001b[0m\u001b[0mlbls\u001b[0m \u001b[0;34m==\u001b[0m \u001b[0mclass_id\u001b[0m\u001b[0;34m,\u001b[0m \u001b[0;36m1\u001b[0m\u001b[0;34m]\u001b[0m\u001b[0;34m,\u001b[0m \u001b[0ms\u001b[0m\u001b[0;34m=\u001b[0m\u001b[0;36m20\u001b[0m\u001b[0;34m,\u001b[0m \u001b[0mcolor\u001b[0m\u001b[0;34m=\u001b[0m\u001b[0mcora_label_to_color_map\u001b[0m\u001b[0;34m[\u001b[0m\u001b[0mclass_id\u001b[0m\u001b[0;34m]\u001b[0m\u001b[0;34m)\u001b[0m\u001b[0;34m\u001b[0m\u001b[0;34m\u001b[0m\u001b[0m\n\u001b[0m\u001b[1;32m     24\u001b[0m \u001b[0mplt\u001b[0m\u001b[0;34m.\u001b[0m\u001b[0mshow\u001b[0m\u001b[0;34m(\u001b[0m\u001b[0;34m)\u001b[0m\u001b[0;34m\u001b[0m\u001b[0;34m\u001b[0m\u001b[0m\n",
            "\u001b[0;31mKeyError\u001b[0m: 7"
          ]
        },
        {
          "output_type": "display_data",
          "data": {
            "text/plain": [
              "<Figure size 640x480 with 1 Axes>"
            ],
            "image/png": "[encoded data removed]"
          },
          "metadata": {}
        }
      ]
    },
    {
      "cell_type": "code",
      "source": [
        "# dead neurons\n",
        "\n",
        "\n",
        "def fetch_activations2(params, x):\n",
        "    hidden_layers = params[:-1]\n",
        "    collector = []\n",
        "\n",
        "    activation = x\n",
        "    for w, b in hidden_layers:\n",
        "        activation = jax.nn.relu(jnp.dot(w, activation) + b)\n",
        "        collector.append(activation)\n",
        "\n",
        "    return collector\n",
        "\n",
        "\n",
        "batched_fetch_activations2 = vmap(fetch_activations2, in_axes=(None, 0))\n",
        "\n",
        "imgs, lbls = next(iter(test_loader))\n",
        "\n",
        "MLP_params2 = init_MLP([np.prod(mnist_img_size), 512, 256, len(MNIST.classes)], key)\n",
        "\n",
        "batch_activations = batched_fetch_activations2(MLP_params2, imgs)\n",
        "print(batch_activations[1].shape) # (128, 512/256)\n",
        "\n",
        "dead_neurons = [np.ones(act.shape[1:]) for act in batch_activations]\n",
        "\n",
        "for layer_id, activations in enumerate(batch_activations):\n",
        "  dead_neurons[layer_id] = np.logical_and(dead_neurons[layer_id], (activations == 0).all(axis=0))\n",
        "\n",
        "for layers in dead_neurons:\n",
        "  print(np.sum(layers))"
      ],
      "metadata": {
        "colab": {
          "base_uri": "https://localhost:8080/"
        },
        "id": "MBpB_wcco_oi",
        "outputId": "7b36ba79-35e7-4cee-b486-7bf3b445a951"
      },
      "execution_count": 26,
      "outputs": [
        {
          "output_type": "stream",
          "name": "stdout",
          "text": [
            "(128, 256)\n",
            "0\n",
            "7\n"
          ]
        }
      ]
    },
    {
      "cell_type": "code",
      "source": [],
      "metadata": {
        "id": "bjPbvhJ4jW4r"
      },
      "execution_count": null,
      "outputs": []
    }
  ]
}