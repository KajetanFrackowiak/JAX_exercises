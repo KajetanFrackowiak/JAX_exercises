{
  "nbformat": 4,
  "nbformat_minor": 0,
  "metadata": {
    "colab": {
      "provenance": []
    },
    "kernelspec": {
      "name": "python3",
      "display_name": "Python 3"
    },
    "language_info": {
      "name": "python"
    }
  },
  "cells": [
    {
      "cell_type": "code",
      "execution_count": 1,
      "metadata": {
        "id": "Wlg3cDLRuCiH"
      },
      "outputs": [],
      "source": [
        "import jax\n",
        "from jax import lax, random, numpy as jnp\n",
        "\n",
        "import flax\n",
        "from flax.core import freeze, unfreeze\n",
        "from flax import linen as nn\n",
        "from flax.training import train_state\n",
        "\n",
        "# import haiku as hk\n",
        "\n",
        "import optax\n",
        "\n",
        "from torchvision.datasets import MNIST\n",
        "from torch.utils.data import DataLoader\n",
        "\n",
        "import functools\n",
        "from typing import Any, Callable, Sequence, Optional\n",
        "\n",
        "import numpy as np\n",
        "import matplotlib.pyplot as plt"
      ]
    },
    {
      "cell_type": "code",
      "source": [
        "model = nn.Dense(features=5)\n",
        "\n",
        "print(nn.Dense.__bases__)"
      ],
      "metadata": {
        "colab": {
          "base_uri": "https://localhost:8080/"
        },
        "id": "3ba1xYI7uvbM",
        "outputId": "c8f25b9c-3ea9-4ea5-d831-6f51d41129c6"
      },
      "execution_count": 2,
      "outputs": [
        {
          "output_type": "stream",
          "name": "stdout",
          "text": [
            "(<class 'flax.linen.module.Module'>,)\n"
          ]
        }
      ]
    },
    {
      "cell_type": "code",
      "source": [
        "# Step 1: init\n",
        "seed = 23\n",
        "key1, key2 = random.split(random.PRNGKey(seed))\n",
        "x = random.normal(key1, (10,)) # dummy inpuy, a 10-dimensional random vector\n",
        "\n",
        "# Initialization call - this gives the actual model weights\n",
        "y, params = model.init_with_output(key2, x)\n",
        "print(y)\n",
        "print(jax.tree.map(lambda x: x.shape, params))"
      ],
      "metadata": {
        "colab": {
          "base_uri": "https://localhost:8080/"
        },
        "id": "-cImKKMRu9D5",
        "outputId": "20e92dc8-236d-42fb-97ee-219ca5a41268"
      },
      "execution_count": 3,
      "outputs": [
        {
          "output_type": "stream",
          "name": "stdout",
          "text": [
            "[-1.2137767  -0.3663314   0.06677872 -2.0143979  -0.32107335]\n",
            "{'params': {'bias': (5,), 'kernel': (10, 5)}}\n"
          ]
        }
      ]
    },
    {
      "cell_type": "code",
      "source": [
        "# Step 2: apply\n",
        "y = model.apply(params, x)  # this is how is running prediiton in Flax, state is external\n",
        "print(y)"
      ],
      "metadata": {
        "colab": {
          "base_uri": "https://localhost:8080/"
        },
        "id": "LMZNH2QawVWg",
        "outputId": "9d53db4f-e8c7-4d8b-8e9d-e1ef69d98577"
      },
      "execution_count": 4,
      "outputs": [
        {
          "output_type": "stream",
          "name": "stdout",
          "text": [
            "[-1.2137767  -0.3663314   0.06677872 -2.0143979  -0.32107335]\n"
          ]
        }
      ]
    },
    {
      "cell_type": "code",
      "source": [
        "try:\n",
        "  y = model(x)\n",
        "except Exception as e:\n",
        "  print(e)"
      ],
      "metadata": {
        "colab": {
          "base_uri": "https://localhost:8080/"
        },
        "id": "RWIBJYSVxA0N",
        "outputId": "8ec4ee90-a67d-4aed-9935-c4be5cdd4c0f"
      },
      "execution_count": 5,
      "outputs": [
        {
          "output_type": "stream",
          "name": "stdout",
          "text": [
            "Can't call compact methods on unbound modules (https://flax.readthedocs.io/en/latest/api_reference/flax.errors.html#flax.errors.CallCompactUnboundModuleError)\n"
          ]
        }
      ]
    },
    {
      "cell_type": "markdown",
      "source": [
        "# Training a linear regression model"
      ],
      "metadata": {
        "id": "0wOwnfG3yAcy"
      }
    },
    {
      "cell_type": "code",
      "source": [
        "n_samples = 150\n",
        "x_dim = 2\n",
        "y_dim = 1\n",
        "noise_amplitude = 0.1\n",
        "\n",
        "key, w_key, b_key = random.split(random.PRNGKey(seed), num=3)\n",
        "W = random.normal(w_key, (x_dim, y_dim))\n",
        "b = random.normal(b_key, (y_dim,))\n",
        "\n",
        "# This is the structure that Flax expects\n",
        "true_params = freeze({'params': {'bias': b, 'kernel': W}})\n",
        "\n",
        "# Generate samples with additional noise\n",
        "key, x_key, noise_key = random.split(key, num=3)\n",
        "xs = random.normal(x_key, (n_samples, x_dim))\n",
        "ys = jnp.dot(xs, W) + b\n",
        "ys += noise_amplitude * random.normal(noise_key, (n_samples, y_dim))\n",
        "print(f\"xs shape = {xs.shape} ; ys shape = {ys.shape}\")\n"
      ],
      "metadata": {
        "colab": {
          "base_uri": "https://localhost:8080/"
        },
        "id": "3stNCE9oxsit",
        "outputId": "094b4b9d-1ba0-4f67-c9c4-a56bba4ddf48"
      },
      "execution_count": 6,
      "outputs": [
        {
          "output_type": "stream",
          "name": "stdout",
          "text": [
            "xs shape = (150, 2) ; ys shape = (150, 1)\n"
          ]
        }
      ]
    },
    {
      "cell_type": "code",
      "source": [
        "fig = plt.figure()\n",
        "ax = fig.add_subplot(111, projection='3d')\n",
        "assert xs.shape[-1] == 2 and ys.shape[-1] == 1\n",
        "ax.scatter(xs[:, 0], xs[:, 1], zs=ys)"
      ],
      "metadata": {
        "colab": {
          "base_uri": "https://localhost:8080/",
          "height": 433
        },
        "id": "5tBBz5hE0iOw",
        "outputId": "228cef99-a6ed-4e07-cd4a-89d81f5f65f9"
      },
      "execution_count": 7,
      "outputs": [
        {
          "output_type": "execute_result",
          "data": {
            "text/plain": [
              "<mpl_toolkits.mplot3d.art3d.Path3DCollection at 0x7dddfc8c94e0>"
            ]
          },
          "metadata": {},
          "execution_count": 7
        },
        {
          "output_type": "display_data",
          "data": {
            "text/plain": [
              "<Figure size 640x480 with 1 Axes>"
            ],
            "image/png": "[encoded data removed]"
          },
          "metadata": {}
        }
      ]
    },
    {
      "cell_type": "code",
      "source": [
        "def make_mse_loss(xs, ys):\n",
        "\n",
        "  def mse_loss(params):\n",
        "    \"\"\"Gives the value of the loss on the (xs, ys) dataset for the given model (params).\"\"\"\n",
        "\n",
        "    # Define the squared loss for a sinle pair (x, y)\n",
        "    def squared_error(x, y):\n",
        "      pred = model.apply(params, x)\n",
        "      # Inner because 'y' could have in genreal more then 1 dims\n",
        "      return jnp.inner(y-pred, y-pred) / 2.0\n",
        "\n",
        "    # Batched version via vmap\n",
        "    return jnp.mean(jax.vmap(squared_error)(xs, ys), axis=0)\n",
        "\n",
        "  return jax.jit(mse_loss)  # jit the result (mse_loss is a pure function)\n",
        "\n",
        "mse_loss = make_mse_loss(xs, ys)\n",
        "value_and_grad_fn = jax.value_and_grad(mse_loss)"
      ],
      "metadata": {
        "id": "Op8rtrWi1Uwd"
      },
      "execution_count": 8,
      "outputs": []
    },
    {
      "cell_type": "code",
      "source": [
        "model = nn.Dense(features=y_dim)\n",
        "params = model.init(key, xs)\n",
        "print(f\"Initial params = {params}\")\n",
        "\n",
        "lr = 1e-3\n",
        "epochs = 20\n",
        "log_period_epoch = 5\n",
        "\n",
        "print('-'*50)\n",
        "for epoch in range(epochs):\n",
        "  loss, grads = value_and_grad_fn(params)\n",
        "  # SGD\n",
        "  params = jax.tree.map(lambda p, g: p - lr * g, params, grads)\n",
        "\n",
        "  if epoch % log_period_epoch == 0:\n",
        "    print(f\"epoch {epoch}, loss = {loss}\")\n",
        "\n",
        "print('-'*50)\n",
        "print(f\"Learned params = {params}\")\n",
        "print(f\"Gt params = {true_params}\")\n"
      ],
      "metadata": {
        "colab": {
          "base_uri": "https://localhost:8080/"
        },
        "id": "HsiVL31m3CWk",
        "outputId": "93f94619-c6a9-4928-b6c5-d0e7aa9c3a52"
      },
      "execution_count": 9,
      "outputs": [
        {
          "output_type": "stream",
          "name": "stdout",
          "text": [
            "Initial params = {'params': {'kernel': Array([[1.1737938 ],\n",
            "       [0.41188157]], dtype=float32), 'bias': Array([0.], dtype=float32)}}\n",
            "--------------------------------------------------\n",
            "epoch 0, loss = 0.6607971787452698\n",
            "epoch 5, loss = 0.6542537808418274\n",
            "epoch 10, loss = 0.6477754712104797\n",
            "epoch 15, loss = 0.6413618922233582\n",
            "--------------------------------------------------\n",
            "Learned params = {'params': {'bias': Array([-0.00422967], dtype=float32), 'kernel': Array([[1.1518111],\n",
            "       [0.4080331]], dtype=float32)}}\n",
            "Gt params = FrozenDict({\n",
            "    params: {\n",
            "        bias: Array([-0.25356248], dtype=float32),\n",
            "        kernel: Array([[0.08546512],\n",
            "               [0.22107157]], dtype=float32),\n",
            "    },\n",
            "})\n"
          ]
        }
      ]
    },
    {
      "cell_type": "code",
      "source": [
        "# Now with optimizers\n",
        "opt_sgd = optax.sgd(learning_rate=lr)\n",
        "opt_state = opt_sgd.init(params)  # 3 always the same pattern - handling state externally\n",
        "print(opt_state)"
      ],
      "metadata": {
        "colab": {
          "base_uri": "https://localhost:8080/"
        },
        "id": "tpX3c7Ua6mqI",
        "outputId": "d02a4416-fe0b-4d87-87ea-dfad55cb76a9"
      },
      "execution_count": 10,
      "outputs": [
        {
          "output_type": "stream",
          "name": "stdout",
          "text": [
            "(EmptyState(), EmptyState())\n"
          ]
        }
      ]
    },
    {
      "cell_type": "code",
      "source": [
        "params = model.init(key, xs)  # start with fresh params\n",
        "\n",
        "for epoch in range(epochs):\n",
        "  loss, grads = value_and_grad_fn(params)\n",
        "  updates, opt_state = opt_sgd.update(grads, opt_state)\n",
        "  params = optax.apply_updates(params, updates)\n",
        "\n",
        "  if epoch % log_period_epoch == 0:\n",
        "    print(f\"epoch {epoch}, loss = {loss}\")"
      ],
      "metadata": {
        "colab": {
          "base_uri": "https://localhost:8080/"
        },
        "id": "8M-D77K_7-MZ",
        "outputId": "e1049831-d94a-422c-e56f-3cf2912fa944"
      },
      "execution_count": 11,
      "outputs": [
        {
          "output_type": "stream",
          "name": "stdout",
          "text": [
            "epoch 0, loss = 0.6607971787452698\n",
            "epoch 5, loss = 0.6542537808418274\n",
            "epoch 10, loss = 0.6477754712104797\n",
            "epoch 15, loss = 0.6413618922233582\n"
          ]
        }
      ]
    },
    {
      "cell_type": "code",
      "source": [
        "opt_adam = optax.adam(learning_rate=lr)\n",
        "opt_state = opt_adam.init(params)\n",
        "print(opt_state)"
      ],
      "metadata": {
        "colab": {
          "base_uri": "https://localhost:8080/"
        },
        "id": "FBc0UpM48cDt",
        "outputId": "c61b3f57-72bd-4add-d99c-793f4a2314cc"
      },
      "execution_count": 12,
      "outputs": [
        {
          "output_type": "stream",
          "name": "stdout",
          "text": [
            "(ScaleByAdamState(count=Array(0, dtype=int32), mu={'params': {'bias': Array([0.], dtype=float32), 'kernel': Array([[0.],\n",
            "       [0.]], dtype=float32)}}, nu={'params': {'bias': Array([0.], dtype=float32), 'kernel': Array([[0.],\n",
            "       [0.]], dtype=float32)}}), EmptyState())\n"
          ]
        }
      ]
    },
    {
      "cell_type": "code",
      "source": [
        "params = model.init(key, xs)\n",
        "\n",
        "for epoch in range(epochs):\n",
        "  loss, grads = value_and_grad_fn(params)\n",
        "  updates, opt_state = opt_adam.update(grads, opt_state)\n",
        "  params = optax.apply_updates(params, updates)\n",
        "\n",
        "  if epoch % log_period_epoch == 0:\n",
        "    print(f\"epoch {epoch}, loss = {loss}\")"
      ],
      "metadata": {
        "colab": {
          "base_uri": "https://localhost:8080/"
        },
        "id": "aDPZ9Uo58kFp",
        "outputId": "cd639339-d28a-4d28-f51b-4e0963862fba"
      },
      "execution_count": 13,
      "outputs": [
        {
          "output_type": "stream",
          "name": "stdout",
          "text": [
            "epoch 0, loss = 0.6607971787452698\n",
            "epoch 5, loss = 0.6532472968101501\n",
            "epoch 10, loss = 0.6457734107971191\n",
            "epoch 15, loss = 0.6383804678916931\n"
          ]
        }
      ]
    },
    {
      "cell_type": "code",
      "source": [
        "class MLP(nn.Module):\n",
        "  num_neurons_per_layer: Sequence[int]\n",
        "\n",
        "  def setup(self):\n",
        "    self.layers = [nn.Dense(n) for n in self.num_neurons_per_layer]\n",
        "\n",
        "  def __call__(self, x):\n",
        "    activation = x\n",
        "    for i, layer in enumerate(self.layers):\n",
        "      activation = layer(activation)\n",
        "      if i != len(self.layers) - 1:\n",
        "        activation = nn.relu(activation)\n",
        "\n",
        "    return activation\n",
        "\n",
        "x_key, init_key = random.split(random.PRNGKey(seed))\n",
        "\n",
        "model = MLP(num_neurons_per_layer=[16, 8, 1])\n",
        "x = random.uniform(x_key, (4, 4))  # dummy input\n",
        "params = model.init(init_key, x)\n",
        "y = model.apply(params, x)\n",
        "\n",
        "print(jax.tree.map(jnp.shape, params))\n",
        "print(f\"Output: {y}\")"
      ],
      "metadata": {
        "colab": {
          "base_uri": "https://localhost:8080/"
        },
        "id": "VOAXicql89rl",
        "outputId": "cd1ce16f-e817-4428-8ae0-bf79fdc149de"
      },
      "execution_count": 14,
      "outputs": [
        {
          "output_type": "stream",
          "name": "stdout",
          "text": [
            "{'params': {'layers_0': {'bias': (16,), 'kernel': (4, 16)}, 'layers_1': {'bias': (8,), 'kernel': (16, 8)}, 'layers_2': {'bias': (1,), 'kernel': (8, 1)}}}\n",
            "Output: [[0.3599736 ]\n",
            " [0.19171566]\n",
            " [0.3277179 ]\n",
            " [0.46014392]]\n"
          ]
        }
      ]
    },
    {
      "cell_type": "markdown",
      "source": [
        "# Introducing \"param\""
      ],
      "metadata": {
        "id": "8QsNZkMrCcR7"
      }
    },
    {
      "cell_type": "code",
      "source": [
        "class MyDenseImp(nn.Module):\n",
        "  num_neurons: int\n",
        "  weight_init: Callable = nn.initializers.lecun_normal()\n",
        "  bias_init: Callable = nn.initializers.zeros\n",
        "\n",
        "  @nn.compact\n",
        "  def __call__(self, x):\n",
        "    weight = self.param('weight',  # parameter name\n",
        "                        self.weight_init,  # initialization function, RNG passed implicitly through init fn\n",
        "                        (x.shape[-1], self.num_neurons))  # shape info\n",
        "    bias = self.param('bias', self.bias_init, (self.num_neurons,))\n",
        "\n",
        "    return jnp.dot(x, weight) + bias\n",
        "\n",
        "x_key, init_key = random.split(random.PRNGKey(seed))\n",
        "\n",
        "\n",
        "model = MyDenseImp(num_neurons=3)  # initialize the model\n",
        "x = random.uniform(x_key, (4, 4))  # dummy input\n",
        "params = model.init(init_key, x)   # initialize via init\n",
        "y = model.apply(params, x)  # do a forward pass via apply\n",
        "\n",
        "print(jax.tree.map(jnp.shape, params))\n",
        "print(f'Output: {y}')"
      ],
      "metadata": {
        "colab": {
          "base_uri": "https://localhost:8080/"
        },
        "id": "XB5GOmsJ-l9I",
        "outputId": "8001016f-02ca-46fa-87d6-75d58eaaafef"
      },
      "execution_count": 15,
      "outputs": [
        {
          "output_type": "stream",
          "name": "stdout",
          "text": [
            "{'params': {'bias': (3,), 'weight': (4, 3)}}\n",
            "Output: [[-0.4543119   0.14070597 -0.1399677 ]\n",
            " [-0.32604304 -0.02913585  0.21127704]\n",
            " [-0.16531758  0.2607744  -0.37982285]\n",
            " [-0.01778072  0.40737242 -0.1099543 ]]\n"
          ]
        }
      ]
    },
    {
      "cell_type": "code",
      "source": [
        "from inspect import signature\n",
        "\n",
        "print(signature(nn.initializers.lecun_normal()))"
      ],
      "metadata": {
        "colab": {
          "base_uri": "https://localhost:8080/"
        },
        "id": "43y5NJF2AjTi",
        "outputId": "38a59ea2-e7fe-4817-c3d5-44a322d31760"
      },
      "execution_count": 16,
      "outputs": [
        {
          "output_type": "stream",
          "name": "stdout",
          "text": [
            "(key: 'KeyArray', shape: 'core.Shape', dtype: 'DTypeLikeInexact' = <class 'jax.numpy.float64'>) -> 'Array'\n"
          ]
        }
      ]
    },
    {
      "cell_type": "markdown",
      "source": [
        "# Introducing \"variable\""
      ],
      "metadata": {
        "id": "dwe96TpwCghW"
      }
    },
    {
      "cell_type": "code",
      "source": [
        "class BiasAdderWithRunningMean(nn.Module):\n",
        "  decay: float = 0.99\n",
        "\n",
        "  @nn.compact\n",
        "  def __call__(self, x):\n",
        "    is_initialized = self.has_variable('batch_stats', 'ema')\n",
        "\n",
        "    # Flax uses that name in its implementation of BatchNorm\n",
        "    ema = self.variable('batch_stats', 'ema', lambda shape: jnp.zeros(shape), x.shape[1:])\n",
        "\n",
        "    bias = self.param('bias', lambda key, shape: jnp.zeros(shape), x.shape[1:])\n",
        "\n",
        "    if is_initialized:\n",
        "      # sel.variable return a reference hence .value\n",
        "      ema.value = self.decay * ema.value + (1.0 - self.decay) * jnp.mean(x, axis=0, keepdims=True)\n",
        "\n",
        "    return x - ema.value + bias\n",
        "\n",
        "x_key, init_key = random.split(random.PRNGKey(seed))\n",
        "\n",
        "model = BiasAdderWithRunningMean()\n",
        "x = random.uniform(x_key, (10, 4))  # dummy uniform\n",
        "variables = model.init(init_key, x)\n",
        "print(f\"Multiple collections = {variables}\")\n",
        "\n",
        "y, updated_non_trainable_params = model.apply(variables, x, mutable=['batch_stats'])\n",
        "print(updated_non_trainable_params)"
      ],
      "metadata": {
        "colab": {
          "base_uri": "https://localhost:8080/"
        },
        "id": "XslWu4FJCPPM",
        "outputId": "57585336-2ddf-4af2-9597-0520085f4b40"
      },
      "execution_count": 17,
      "outputs": [
        {
          "output_type": "stream",
          "name": "stdout",
          "text": [
            "Multiple collections = {'batch_stats': {'ema': Array([0., 0., 0., 0.], dtype=float32)}, 'params': {'bias': Array([0., 0., 0., 0.], dtype=float32)}}\n",
            "{'batch_stats': {'ema': Array([[0.00421787, 0.00597094, 0.00638907, 0.00699901]], dtype=float32)}}\n"
          ]
        }
      ]
    },
    {
      "cell_type": "code",
      "source": [
        "# def update_step(opt, apply_fn, x, opt_state, params, non_trainable_params):\n",
        "\n",
        "#     def loss_fn(params):\n",
        "#         y, updated_non_trainable_params = apply_fn(\n",
        "#             {'params': params, **non_trainable_params},\n",
        "#             x, mutable=list(non_trainable_params.keys()))\n",
        "\n",
        "#         loss = ((x - y) ** 2).sum()  # not doing anything really, just for the demo purpose\n",
        "\n",
        "#         return loss, updated_non_trainable_params\n",
        "\n",
        "#     (loss, non_trainable_params), grads = jax.value_and_grad(loss_fn, has_aux=True)(params)\n",
        "#     updates, opt_state = opt.update(grads, opt_state)\n",
        "#     params = optax.apply_updates(params, updates)\n",
        "\n",
        "#     return opt_state, params, non_trainable_params  # all of these represent the state - ugly, for now\n",
        "\n",
        "# model = BiasAdderWithRunningMean()\n",
        "# x = jnp.ones((10,4))  # dummy input, using ones because it's easier to see what's going on\n",
        "\n",
        "# variables = model.init(random.PRNGKey(seed), x)\n",
        "# non_trainable_params, params = variables.pop('params', None), variables\n",
        "# del variables  # delete variables to avoid wasting resources (this pattern is used in the official code)\n",
        "\n",
        "# sgd_opt = optax.sgd(learning_rate=0.1)  # originally you'll see them use the 'tx' naming (from opTaX)\n",
        "# opt_state = sgd_opt.init(params)\n",
        "\n",
        "# for _ in range(3):\n",
        "#     # We'll later see how TrainState abstraction will make this step much more elegant!\n",
        "#     opt_state, params, non_trainable_params = update_step(sgd_opt, model.apply, x, opt_state, params, non_trainable_params)\n",
        "#     print(non_trainable_params)"
      ],
      "metadata": {
        "id": "_TaB01IfG1Sp"
      },
      "execution_count": 18,
      "outputs": []
    },
    {
      "cell_type": "code",
      "source": [
        "class DDNBlock(nn.Module):\n",
        "  num_neurons: int\n",
        "  training: bool\n",
        "\n",
        "  @nn.compact\n",
        "  def __call__(self, x):\n",
        "    x = nn.Dense(self.num_neurons)(x)\n",
        "    x = nn.Dropout(rate=0.5, deterministic=not self.training)(x)\n",
        "    x = nn.BatchNorm(use_running_average=not self.training)(x)\n",
        "    return x\n",
        "\n",
        "key1, key2, key3, key4 = random.split(random.PRNGKey(seed), 4)\n",
        "\n",
        "model = DDNBlock(num_neurons=3, training=True)\n",
        "x = random.uniform(key1, (3, 4, 4))\n",
        "\n",
        "# New\n",
        "variables = model.init({'params': key2, 'dropout': key3}, x)\n",
        "print(variables)\n",
        "\n",
        "y, non_trainable_params = model.apply(variables, x, rngs={'dropout': key4}, mutable=['batch_stats'])\n",
        "\n",
        "eval_model = DDNBlock(num_neurons=3, training=False)\n",
        "y = eval_model.apply(variables, x)"
      ],
      "metadata": {
        "colab": {
          "base_uri": "https://localhost:8080/"
        },
        "id": "C1II4NXbJGG7",
        "outputId": "7bbacb89-3588-4978-f64d-308eb19c060c"
      },
      "execution_count": 19,
      "outputs": [
        {
          "output_type": "stream",
          "name": "stdout",
          "text": [
            "{'params': {'Dense_0': {'kernel': Array([[-0.7563737 ,  0.01997766,  0.04605455],\n",
            "       [ 0.65764475, -0.7379195 , -0.3011639 ],\n",
            "       [ 0.80684876,  0.7780826 ,  0.09813767],\n",
            "       [ 0.1541389 ,  0.17243949,  0.44406676]], dtype=float32), 'bias': Array([0., 0., 0.], dtype=float32)}, 'BatchNorm_0': {'scale': Array([1., 1., 1.], dtype=float32), 'bias': Array([0., 0., 0.], dtype=float32)}}, 'batch_stats': {'BatchNorm_0': {'mean': Array([0., 0., 0.], dtype=float32), 'var': Array([1., 1., 1.], dtype=float32)}}}\n"
          ]
        }
      ]
    },
    {
      "cell_type": "markdown",
      "source": [
        " A fully-fledged CNN on MNIST example in Flax"
      ],
      "metadata": {
        "id": "jcIyuoSSMvxI"
      }
    },
    {
      "cell_type": "code",
      "source": [
        "class CNN(nn.Module):  # lots of hardcoding, but it serves a purpose for a simple demo\n",
        "    @nn.compact\n",
        "    def __call__(self, x):\n",
        "        x = nn.Conv(features=32, kernel_size=(3, 3))(x)\n",
        "        x = nn.relu(x)\n",
        "        x = nn.avg_pool(x, window_shape=(2, 2), strides=(2, 2))\n",
        "        x = nn.Conv(features=64, kernel_size=(3, 3))(x)\n",
        "        x = nn.relu(x)\n",
        "        x = nn.avg_pool(x, window_shape=(2, 2), strides=(2, 2))\n",
        "        x = x.reshape((x.shape[0], -1))  # flatten\n",
        "        x = nn.Dense(features=256)(x)\n",
        "        x = nn.relu(x)\n",
        "        x = nn.Dense(features=10)(x)\n",
        "        x = nn.log_softmax(x)\n",
        "        return x\n"
      ],
      "metadata": {
        "id": "CgwdiXf0MaJv"
      },
      "execution_count": 20,
      "outputs": []
    },
    {
      "cell_type": "code",
      "source": [
        "def custom_transform(x):\n",
        "  # Input: (28, 28) uint8 [0, 255] torch.Tensor, Output: (28, 28, 1) float32 [0, 1] np array\n",
        "  return np.expand_dims(np.array(x, dtype=np.float32), axis=2) / 255.\n",
        "\n",
        "def custom_collate_fn(batch):\n",
        "  \"\"\"Provided us with batches of numpy arrays and not PyTorch's tensors.\"\"\"\n",
        "  transposed_data = list(zip(*batch))\n",
        "\n",
        "  labels = np.array(transposed_data[1])\n",
        "  imgs = np.stack(transposed_data[0])\n",
        "\n",
        "  return imgs, labels\n",
        "\n",
        "mnist_img_size = (28, 28, 1)\n",
        "batch_size = 128\n",
        "\n",
        "train_dataset = MNIST(root='train_mnist', train=True, download=True, transform=custom_transform)\n",
        "test_dataset = MNIST(root='test_mnist', train=False, download=True, transform=custom_transform)\n",
        "\n",
        "train_loader = DataLoader(train_dataset, batch_size, shuffle=True, collate_fn=custom_collate_fn, drop_last=True)\n",
        "test_loader = DataLoader(test_dataset, batch_size, shuffle=False, collate_fn=custom_collate_fn, drop_last=True)\n",
        "\n",
        "# optimization - loading the whole dataset into memory\n",
        "train_images = jnp.array(train_dataset.data)\n",
        "test_images = jnp.array(test_dataset.targets)\n",
        "\n",
        "test_images = np.expand_dims(jnp.array(test_dataset.data), axis=3)\n",
        "test_lbls = jnp.array(test_dataset.targets)"
      ],
      "metadata": {
        "id": "9dq-Igp5Ni7F",
        "colab": {
          "base_uri": "https://localhost:8080/"
        },
        "outputId": "377e324c-928c-4328-aad0-21197101ef09"
      },
      "execution_count": 21,
      "outputs": [
        {
          "output_type": "stream",
          "name": "stdout",
          "text": [
            "Downloading http://yann.lecun.com/exdb/mnist/train-images-idx3-ubyte.gz\n",
            "Failed to download (trying next):\n",
            "HTTP Error 403: Forbidden\n",
            "\n",
            "Downloading https://ossci-datasets.s3.amazonaws.com/mnist/train-images-idx3-ubyte.gz\n",
            "Downloading https://ossci-datasets.s3.amazonaws.com/mnist/train-images-idx3-ubyte.gz to train_mnist/MNIST/raw/train-images-idx3-ubyte.gz\n"
          ]
        },
        {
          "output_type": "stream",
          "name": "stderr",
          "text": [
            "100%|██████████| 9912422/9912422 [00:01<00:00, 5437960.02it/s]\n"
          ]
        },
        {
          "output_type": "stream",
          "name": "stdout",
          "text": [
            "Extracting train_mnist/MNIST/raw/train-images-idx3-ubyte.gz to train_mnist/MNIST/raw\n",
            "\n",
            "Downloading http://yann.lecun.com/exdb/mnist/train-labels-idx1-ubyte.gz\n",
            "Failed to download (trying next):\n",
            "HTTP Error 403: Forbidden\n",
            "\n",
            "Downloading https://ossci-datasets.s3.amazonaws.com/mnist/train-labels-idx1-ubyte.gz\n",
            "Downloading https://ossci-datasets.s3.amazonaws.com/mnist/train-labels-idx1-ubyte.gz to train_mnist/MNIST/raw/train-labels-idx1-ubyte.gz\n"
          ]
        },
        {
          "output_type": "stream",
          "name": "stderr",
          "text": [
            "100%|██████████| 28881/28881 [00:00<00:00, 157002.63it/s]\n"
          ]
        },
        {
          "output_type": "stream",
          "name": "stdout",
          "text": [
            "Extracting train_mnist/MNIST/raw/train-labels-idx1-ubyte.gz to train_mnist/MNIST/raw\n",
            "\n",
            "Downloading http://yann.lecun.com/exdb/mnist/t10k-images-idx3-ubyte.gz\n",
            "Failed to download (trying next):\n",
            "HTTP Error 403: Forbidden\n",
            "\n",
            "Downloading https://ossci-datasets.s3.amazonaws.com/mnist/t10k-images-idx3-ubyte.gz\n",
            "Downloading https://ossci-datasets.s3.amazonaws.com/mnist/t10k-images-idx3-ubyte.gz to train_mnist/MNIST/raw/t10k-images-idx3-ubyte.gz\n"
          ]
        },
        {
          "output_type": "stream",
          "name": "stderr",
          "text": [
            "100%|██████████| 1648877/1648877 [00:05<00:00, 311143.46it/s]\n"
          ]
        },
        {
          "output_type": "stream",
          "name": "stdout",
          "text": [
            "Extracting train_mnist/MNIST/raw/t10k-images-idx3-ubyte.gz to train_mnist/MNIST/raw\n",
            "\n",
            "Downloading http://yann.lecun.com/exdb/mnist/t10k-labels-idx1-ubyte.gz\n",
            "Failed to download (trying next):\n",
            "HTTP Error 403: Forbidden\n",
            "\n",
            "Downloading https://ossci-datasets.s3.amazonaws.com/mnist/t10k-labels-idx1-ubyte.gz\n",
            "Downloading https://ossci-datasets.s3.amazonaws.com/mnist/t10k-labels-idx1-ubyte.gz to train_mnist/MNIST/raw/t10k-labels-idx1-ubyte.gz\n"
          ]
        },
        {
          "output_type": "stream",
          "name": "stderr",
          "text": [
            "100%|██████████| 4542/4542 [00:00<00:00, 2516250.00it/s]\n"
          ]
        },
        {
          "output_type": "stream",
          "name": "stdout",
          "text": [
            "Extracting train_mnist/MNIST/raw/t10k-labels-idx1-ubyte.gz to train_mnist/MNIST/raw\n",
            "\n",
            "Downloading http://yann.lecun.com/exdb/mnist/train-images-idx3-ubyte.gz\n",
            "Failed to download (trying next):\n",
            "HTTP Error 403: Forbidden\n",
            "\n",
            "Downloading https://ossci-datasets.s3.amazonaws.com/mnist/train-images-idx3-ubyte.gz\n",
            "Downloading https://ossci-datasets.s3.amazonaws.com/mnist/train-images-idx3-ubyte.gz to test_mnist/MNIST/raw/train-images-idx3-ubyte.gz\n"
          ]
        },
        {
          "output_type": "stream",
          "name": "stderr",
          "text": [
            "100%|██████████| 9912422/9912422 [00:01<00:00, 5432197.05it/s]\n"
          ]
        },
        {
          "output_type": "stream",
          "name": "stdout",
          "text": [
            "Extracting test_mnist/MNIST/raw/train-images-idx3-ubyte.gz to test_mnist/MNIST/raw\n",
            "\n",
            "Downloading http://yann.lecun.com/exdb/mnist/train-labels-idx1-ubyte.gz\n",
            "Failed to download (trying next):\n",
            "HTTP Error 403: Forbidden\n",
            "\n",
            "Downloading https://ossci-datasets.s3.amazonaws.com/mnist/train-labels-idx1-ubyte.gz\n",
            "Downloading https://ossci-datasets.s3.amazonaws.com/mnist/train-labels-idx1-ubyte.gz to test_mnist/MNIST/raw/train-labels-idx1-ubyte.gz\n"
          ]
        },
        {
          "output_type": "stream",
          "name": "stderr",
          "text": [
            "100%|██████████| 28881/28881 [00:00<00:00, 158719.53it/s]\n"
          ]
        },
        {
          "output_type": "stream",
          "name": "stdout",
          "text": [
            "Extracting test_mnist/MNIST/raw/train-labels-idx1-ubyte.gz to test_mnist/MNIST/raw\n",
            "\n",
            "Downloading http://yann.lecun.com/exdb/mnist/t10k-images-idx3-ubyte.gz\n",
            "Failed to download (trying next):\n",
            "HTTP Error 403: Forbidden\n",
            "\n",
            "Downloading https://ossci-datasets.s3.amazonaws.com/mnist/t10k-images-idx3-ubyte.gz\n",
            "Downloading https://ossci-datasets.s3.amazonaws.com/mnist/t10k-images-idx3-ubyte.gz to test_mnist/MNIST/raw/t10k-images-idx3-ubyte.gz\n"
          ]
        },
        {
          "output_type": "stream",
          "name": "stderr",
          "text": [
            "100%|██████████| 1648877/1648877 [00:01<00:00, 1512066.86it/s]\n"
          ]
        },
        {
          "output_type": "stream",
          "name": "stdout",
          "text": [
            "Extracting test_mnist/MNIST/raw/t10k-images-idx3-ubyte.gz to test_mnist/MNIST/raw\n",
            "\n",
            "Downloading http://yann.lecun.com/exdb/mnist/t10k-labels-idx1-ubyte.gz\n",
            "Failed to download (trying next):\n",
            "HTTP Error 403: Forbidden\n",
            "\n",
            "Downloading https://ossci-datasets.s3.amazonaws.com/mnist/t10k-labels-idx1-ubyte.gz\n",
            "Downloading https://ossci-datasets.s3.amazonaws.com/mnist/t10k-labels-idx1-ubyte.gz to test_mnist/MNIST/raw/t10k-labels-idx1-ubyte.gz\n"
          ]
        },
        {
          "output_type": "stream",
          "name": "stderr",
          "text": [
            "100%|██████████| 4542/4542 [00:00<00:00, 3752320.03it/s]"
          ]
        },
        {
          "output_type": "stream",
          "name": "stdout",
          "text": [
            "Extracting test_mnist/MNIST/raw/t10k-labels-idx1-ubyte.gz to test_mnist/MNIST/raw\n",
            "\n"
          ]
        },
        {
          "output_type": "stream",
          "name": "stderr",
          "text": [
            "\n"
          ]
        }
      ]
    },
    {
      "cell_type": "code",
      "source": [
        "imgs, lbls = next(iter(test_loader))\n",
        "img = imgs[0].reshape(mnist_img_size)[:, :, 0]\n",
        "gt_lbl = lbls[0]\n",
        "\n",
        "print(gt_lbl)\n",
        "plt.imshow(img); plt.show()"
      ],
      "metadata": {
        "colab": {
          "base_uri": "https://localhost:8080/",
          "height": 447
        },
        "id": "Q61xWxfwPih9",
        "outputId": "b6fec5db-9f00-4412-c128-d26078694d34"
      },
      "execution_count": 22,
      "outputs": [
        {
          "output_type": "stream",
          "name": "stdout",
          "text": [
            "7\n"
          ]
        },
        {
          "output_type": "display_data",
          "data": {
            "text/plain": [
              "<Figure size 640x480 with 1 Axes>"
            ],
            "image/png": "[encoded data removed]"
          },
          "metadata": {}
        }
      ]
    },
    {
      "cell_type": "markdown",
      "source": [
        "# Core training function"
      ],
      "metadata": {
        "id": "zyMxGoLZSAvr"
      }
    },
    {
      "cell_type": "code",
      "source": [
        "@jax.jit\n",
        "def train_step(state, imgs, gt_labels):\n",
        "  def loss_fn(params):\n",
        "    logits = CNN().apply({'params': params}, imgs)\n",
        "    one_hot_gt_labels = jax.nn.one_hot(gt_labels, num_classes=10)\n",
        "    loss = -jnp.mean(jnp.sum(one_hot_gt_labels * logits, axis=-1))\n",
        "\n",
        "  (_, logits), grads = jax.value_and_grad(loss_fn, has_aux=True)(state.params)\n",
        "  state = state.apply_gradients(grads=grads)  # this is the whole upate now\n",
        "  metrics = compute_metrics(logits=logits, gt_labels=gt_labels)\n",
        "  return state, metrics\n",
        "\n",
        "@jax.jit\n",
        "def eval_step(state, imgs, gt_labels):\n",
        "  logits = CNN().apply({'params', state.params}, imgs)\n",
        "  return compute_metrics(lgoits=logits, gt_labels=gt_labels)"
      ],
      "metadata": {
        "id": "rxfhfizkQSDr"
      },
      "execution_count": 23,
      "outputs": []
    },
    {
      "cell_type": "code",
      "source": [
        "def train_one_epoch(state, dataloader, epoch):\n",
        "  \"\"\"Train for 1 epoch on the training set\"\"\"\n",
        "  batch_metrics = []\n",
        "  for cnt, (imgs, labels) in enumerate(dataloader):\n",
        "    state, metrics = train_step(state, imgs, labels)\n",
        "    batch_metrics.append(metrics)\n",
        "\n",
        "  # Aggregate the metrics\n",
        "  batch_metrics_np = jax.device_get(batch_metrics)  # pull from the accelerator onto host (CPU)\n",
        "  epoch_metrics_np = {\n",
        "        k: np.mean([metrics[k] for metrics in batch_metrics_np])\n",
        "        for k in batch_metrics_np[0]\n",
        "    }\n",
        "\n",
        "  return state, epoch_metrics_np\n",
        "\n",
        "def evaluate_model(state, test_imgs, test_lbls):\n",
        "  \"\"\"Evaluate on the validation set.\"\"\"\n",
        "  metrics = eval_step(state, test_imgs, test_lbls)\n",
        "  metrics = jax.device_get(metrics)  # pull from the accelerator onto host (CPU)\n",
        "  metrics = jax.tree.map(lambda x: x.item(), metrics)\n",
        "  return metrics"
      ],
      "metadata": {
        "id": "elR6ytD6TWdq"
      },
      "execution_count": 27,
      "outputs": []
    },
    {
      "cell_type": "code",
      "source": [
        "\n",
        "\n",
        "# This one will keep things nice and tidy compared to our previous examples\n",
        "def create_train_state(key, learning_rate, momentum):\n",
        "    cnn = CNN()\n",
        "    params = cnn.init(key, jnp.ones([1, *mnist_img_size]))['params']\n",
        "    sgd_opt = optax.sgd(learning_rate, momentum)\n",
        "    # TrainState is a simple built-in wrapper class that makes things a bit cleaner\n",
        "    return train_state.TrainState.create(apply_fn=cnn.apply, params=params, tx=sgd_opt)\n",
        "\n",
        "def compute_metrics(*, logits, gt_labels):\n",
        "    one_hot_gt_labels = jax.nn.one_hot(gt_labels, num_classes=10)\n",
        "\n",
        "    loss = -jnp.mean(jnp.sum(one_hot_gt_labels * logits, axis=-1))\n",
        "    accuracy = jnp.mean(jnp.argmax(logits, -1) == gt_labels)\n",
        "\n",
        "    metrics = {\n",
        "        'loss': loss,\n",
        "        'accuracy': accuracy,\n",
        "    }\n",
        "    return metrics\n",
        "\n"
      ],
      "metadata": {
        "id": "DZ4CtPjqUfpb"
      },
      "execution_count": 35,
      "outputs": []
    },
    {
      "cell_type": "code",
      "source": [
        "seed = 0  # needless to say these should be in a config or defined like flags\n",
        "learning_rate = 0.1\n",
        "momentum = 0.9\n",
        "num_epochs = 2\n",
        "batch_size = 32\n",
        "\n",
        "train_state = create_train_state(jax.random.PRNGKey(seed), learning_rate, momentum)\n",
        "\n",
        "for epoch in range(1, num_epochs + 1):\n",
        "    train_state, train_metrics = train_one_epoch(train_state, train_loader, epoch)\n",
        "    print(f\"Train epoch: {epoch}, loss: {train_metrics['loss']}, accuracy: {train_metrics['accuracy'] * 100}\")\n",
        "\n",
        "    test_metrics = evaluate_model(train_state, test_images, test_lbls)\n",
        "    print(f\"Test epoch: {epoch}, loss: {test_metrics['loss']}, accuracy: {test_metrics['accuracy'] * 100}\")"
      ],
      "metadata": {
        "colab": {
          "base_uri": "https://localhost:8080/",
          "height": 332
        },
        "id": "XAKsv5exWGvr",
        "outputId": "59b3d5a4-5683-4c72-9188-6e7d300f3cef"
      },
      "execution_count": 38,
      "outputs": [
        {
          "output_type": "error",
          "ename": "AttributeError",
          "evalue": "'TrainState' object has no attribute 'TrainState'",
          "traceback": [
            "\u001b[0;31m---------------------------------------------------------------------------\u001b[0m",
            "\u001b[0;31mAttributeError\u001b[0m                            Traceback (most recent call last)",
            "\u001b[0;32m<ipython-input-38-ba7c1ee18181>\u001b[0m in \u001b[0;36m<cell line: 7>\u001b[0;34m()\u001b[0m\n\u001b[1;32m      5\u001b[0m \u001b[0mbatch_size\u001b[0m \u001b[0;34m=\u001b[0m \u001b[0;36m32\u001b[0m\u001b[0;34m\u001b[0m\u001b[0;34m\u001b[0m\u001b[0m\n\u001b[1;32m      6\u001b[0m \u001b[0;34m\u001b[0m\u001b[0m\n\u001b[0;32m----> 7\u001b[0;31m \u001b[0mtrain_state\u001b[0m \u001b[0;34m=\u001b[0m \u001b[0mcreate_train_state\u001b[0m\u001b[0;34m(\u001b[0m\u001b[0mjax\u001b[0m\u001b[0;34m.\u001b[0m\u001b[0mrandom\u001b[0m\u001b[0;34m.\u001b[0m\u001b[0mPRNGKey\u001b[0m\u001b[0;34m(\u001b[0m\u001b[0mseed\u001b[0m\u001b[0;34m)\u001b[0m\u001b[0;34m,\u001b[0m \u001b[0mlearning_rate\u001b[0m\u001b[0;34m,\u001b[0m \u001b[0mmomentum\u001b[0m\u001b[0;34m)\u001b[0m\u001b[0;34m\u001b[0m\u001b[0;34m\u001b[0m\u001b[0m\n\u001b[0m\u001b[1;32m      8\u001b[0m \u001b[0;34m\u001b[0m\u001b[0m\n\u001b[1;32m      9\u001b[0m \u001b[0;32mfor\u001b[0m \u001b[0mepoch\u001b[0m \u001b[0;32min\u001b[0m \u001b[0mrange\u001b[0m\u001b[0;34m(\u001b[0m\u001b[0;36m1\u001b[0m\u001b[0;34m,\u001b[0m \u001b[0mnum_epochs\u001b[0m \u001b[0;34m+\u001b[0m \u001b[0;36m1\u001b[0m\u001b[0;34m)\u001b[0m\u001b[0;34m:\u001b[0m\u001b[0;34m\u001b[0m\u001b[0;34m\u001b[0m\u001b[0m\n",
            "\u001b[0;32m<ipython-input-35-69743085f5f2>\u001b[0m in \u001b[0;36mcreate_train_state\u001b[0;34m(key, learning_rate, momentum)\u001b[0m\n\u001b[1;32m      5\u001b[0m     \u001b[0msgd_opt\u001b[0m \u001b[0;34m=\u001b[0m \u001b[0moptax\u001b[0m\u001b[0;34m.\u001b[0m\u001b[0msgd\u001b[0m\u001b[0;34m(\u001b[0m\u001b[0mlearning_rate\u001b[0m\u001b[0;34m,\u001b[0m \u001b[0mmomentum\u001b[0m\u001b[0;34m)\u001b[0m\u001b[0;34m\u001b[0m\u001b[0;34m\u001b[0m\u001b[0m\n\u001b[1;32m      6\u001b[0m     \u001b[0;31m# TrainState is a simple built-in wrapper class that makes things a bit cleaner\u001b[0m\u001b[0;34m\u001b[0m\u001b[0;34m\u001b[0m\u001b[0m\n\u001b[0;32m----> 7\u001b[0;31m     \u001b[0;32mreturn\u001b[0m \u001b[0mtrain_state\u001b[0m\u001b[0;34m.\u001b[0m\u001b[0mTrainState\u001b[0m\u001b[0;34m.\u001b[0m\u001b[0mcreate\u001b[0m\u001b[0;34m(\u001b[0m\u001b[0mapply_fn\u001b[0m\u001b[0;34m=\u001b[0m\u001b[0mcnn\u001b[0m\u001b[0;34m.\u001b[0m\u001b[0mapply\u001b[0m\u001b[0;34m,\u001b[0m \u001b[0mparams\u001b[0m\u001b[0;34m=\u001b[0m\u001b[0mparams\u001b[0m\u001b[0;34m,\u001b[0m \u001b[0mtx\u001b[0m\u001b[0;34m=\u001b[0m\u001b[0msgd_opt\u001b[0m\u001b[0;34m)\u001b[0m\u001b[0;34m\u001b[0m\u001b[0;34m\u001b[0m\u001b[0m\n\u001b[0m\u001b[1;32m      8\u001b[0m \u001b[0;34m\u001b[0m\u001b[0m\n\u001b[1;32m      9\u001b[0m \u001b[0;32mdef\u001b[0m \u001b[0mcompute_metrics\u001b[0m\u001b[0;34m(\u001b[0m\u001b[0;34m*\u001b[0m\u001b[0;34m,\u001b[0m \u001b[0mlogits\u001b[0m\u001b[0;34m,\u001b[0m \u001b[0mgt_labels\u001b[0m\u001b[0;34m)\u001b[0m\u001b[0;34m:\u001b[0m\u001b[0;34m\u001b[0m\u001b[0;34m\u001b[0m\u001b[0m\n",
            "\u001b[0;31mAttributeError\u001b[0m: 'TrainState' object has no attribute 'TrainState'"
          ]
        }
      ]
    },
    {
      "cell_type": "code",
      "source": [],
      "metadata": {
        "id": "0KBPRPESW__M"
      },
      "execution_count": null,
      "outputs": []
    }
  ]
}